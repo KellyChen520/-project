{
 "cells": [
  {
   "cell_type": "code",
   "execution_count": 23,
   "metadata": {},
   "outputs": [],
   "source": [
    "import csv\n",
    "import numpy as np\n",
    "import pandas as pd\n",
    "from sklearn.model_selection import train_test_split\n",
    "from sklearn.linear_model import LogisticRegression\n",
    "from sklearn.metrics import accuracy_score\n",
    "from sklearn.metrics import recall_score\n",
    "from sklearn.metrics import f1_score\n",
    "from sklearn.metrics import precision_score\n",
    "from sklearn.metrics import precision_score\n",
    "from xgboost.sklearn import XGBRegressor\n",
    "import xgboost as xgb"
   ]
  },
  {
   "cell_type": "code",
   "execution_count": 3,
   "metadata": {},
   "outputs": [],
   "source": [
    "train = pd.read_csv(\"train.csv\")\n",
    "train_l = pd.read_csv(\"train_label.csv\")\n",
    "test = pd.read_csv(\"test.csv\")"
   ]
  },
  {
   "cell_type": "code",
   "execution_count": 4,
   "metadata": {},
   "outputs": [
    {
     "name": "stdout",
     "output_type": "stream",
     "text": [
      "(91531, 33)\n",
      "(640, 2)\n",
      "(27859, 29)\n"
     ]
    }
   ],
   "source": [
    "print(train.shape)\n",
    "print(train_l.shape)\n",
    "print(test.shape)"
   ]
  },
  {
   "cell_type": "code",
   "execution_count": 33,
   "metadata": {},
   "outputs": [],
   "source": [
    "df = train.copy()\n",
    "del df[\"reservation_status_date\"]\n",
    "del df[\"reservation_status\"]\n",
    "del df[\"ID\"]"
   ]
  },
  {
   "cell_type": "code",
   "execution_count": 6,
   "metadata": {},
   "outputs": [
    {
     "name": "stdout",
     "output_type": "stream",
     "text": [
      "Index(['ID', 'hotel', 'is_canceled', 'lead_time', 'arrival_date_year',\n",
      "       'arrival_date_month', 'arrival_date_week_number',\n",
      "       'arrival_date_day_of_month', 'stays_in_weekend_nights',\n",
      "       'stays_in_week_nights', 'adults', 'children', 'babies', 'meal',\n",
      "       'country', 'market_segment', 'distribution_channel',\n",
      "       'is_repeated_guest', 'previous_cancellations',\n",
      "       'previous_bookings_not_canceled', 'reserved_room_type',\n",
      "       'assigned_room_type', 'booking_changes', 'deposit_type', 'agent',\n",
      "       'company', 'days_in_waiting_list', 'customer_type', 'adr',\n",
      "       'required_car_parking_spaces', 'total_of_special_requests',\n",
      "       'reservation_status', 'reservation_status_date'],\n",
      "      dtype='object')\n"
     ]
    }
   ],
   "source": [
    "print(train.columns)"
   ]
  },
  {
   "cell_type": "code",
   "execution_count": 7,
   "metadata": {},
   "outputs": [
    {
     "name": "stdout",
     "output_type": "stream",
     "text": [
      "Index(['ID', 'hotel', 'lead_time', 'arrival_date_year', 'arrival_date_month',\n",
      "       'arrival_date_week_number', 'arrival_date_day_of_month',\n",
      "       'stays_in_weekend_nights', 'stays_in_week_nights', 'adults', 'children',\n",
      "       'babies', 'meal', 'country', 'market_segment', 'distribution_channel',\n",
      "       'is_repeated_guest', 'previous_cancellations',\n",
      "       'previous_bookings_not_canceled', 'reserved_room_type',\n",
      "       'assigned_room_type', 'booking_changes', 'deposit_type', 'agent',\n",
      "       'company', 'days_in_waiting_list', 'customer_type',\n",
      "       'required_car_parking_spaces', 'total_of_special_requests'],\n",
      "      dtype='object')\n"
     ]
    }
   ],
   "source": [
    "print(test.columns)"
   ]
  },
  {
   "cell_type": "code",
   "execution_count": 8,
   "metadata": {},
   "outputs": [
    {
     "name": "stdout",
     "output_type": "stream",
     "text": [
      "{'is_canceled', 'reservation_status_date', 'adr', 'reservation_status'}\n"
     ]
    }
   ],
   "source": [
    "print(set(train.columns) - set(test.columns))"
   ]
  },
  {
   "cell_type": "code",
   "execution_count": 51,
   "metadata": {},
   "outputs": [],
   "source": [
    "def change_date(df):\n",
    "    date = []\n",
    "    for i in range(df.shape[0]):\n",
    "        day = str(df[\"arrival_date_day_of_month\"][i])\n",
    "        if df[\"arrival_date_day_of_month\"][i] < 10:\n",
    "            day = \"0\" + day\n",
    "        if df[\"arrival_date_month\"][i] == \"January\":\n",
    "            s = str(df[\"arrival_date_year\"][i]) + \"-01-\" + day\n",
    "        elif df[\"arrival_date_month\"][i] == \"February\":\n",
    "            s = str(df[\"arrival_date_year\"][i]) + \"-02-\" + day\n",
    "        elif df[\"arrival_date_month\"][i] == \"March\":\n",
    "            s = str(df[\"arrival_date_year\"][i]) + \"-03-\" + day\n",
    "        elif df[\"arrival_date_month\"][i] == \"April\":\n",
    "            s = str(df[\"arrival_date_year\"][i]) + \"-04-\" + day\n",
    "        elif df[\"arrival_date_month\"][i] == \"May\":\n",
    "            s = str(df[\"arrival_date_year\"][i]) + \"-05-\" + day\n",
    "        elif df[\"arrival_date_month\"][i] == \"June\":\n",
    "            s = str(df[\"arrival_date_year\"][i]) + \"-06-\" + day\n",
    "        elif df[\"arrival_date_month\"][i] == \"July\":\n",
    "            s = str(df[\"arrival_date_year\"][i]) + \"-07-\" + day\n",
    "        elif df[\"arrival_date_month\"][i] == \"August\":\n",
    "            s = str(df[\"arrival_date_year\"][i]) + \"-08-\" + day\n",
    "        elif df[\"arrival_date_month\"][i] == \"September\":\n",
    "            s = str(df[\"arrival_date_year\"][i]) + \"-09-\" + day\n",
    "        elif df[\"arrival_date_month\"][i] == \"October\":\n",
    "            s = str(df[\"arrival_date_year\"][i]) + \"-10-\" + day\n",
    "        elif df[\"arrival_date_month\"][i] == \"November\":\n",
    "            s = str(df[\"arrival_date_year\"][i]) + \"-11-\" + day\n",
    "        elif df[\"arrival_date_month\"][i] == \"December\":\n",
    "            s = str(df[\"arrival_date_year\"][i]) + \"-12-\" + day\n",
    "        date.append(s)\n",
    "        \n",
    "    return date"
   ]
  },
  {
   "cell_type": "code",
   "execution_count": 52,
   "metadata": {},
   "outputs": [],
   "source": [
    "arr_date = change_date(df)"
   ]
  },
  {
   "cell_type": "code",
   "execution_count": 34,
   "metadata": {},
   "outputs": [],
   "source": [
    "df2 = df.copy()\n",
    "del df2[\"arrival_date_year\"]\n",
    "del df2[\"arrival_date_month\"]\n",
    "del df2[\"arrival_date_day_of_month\"]\n",
    "train_dum = pd.get_dummies(df2)"
   ]
  },
  {
   "cell_type": "code",
   "execution_count": 35,
   "metadata": {},
   "outputs": [
    {
     "data": {
      "text/html": [
       "<div>\n",
       "<style scoped>\n",
       "    .dataframe tbody tr th:only-of-type {\n",
       "        vertical-align: middle;\n",
       "    }\n",
       "\n",
       "    .dataframe tbody tr th {\n",
       "        vertical-align: top;\n",
       "    }\n",
       "\n",
       "    .dataframe thead th {\n",
       "        text-align: right;\n",
       "    }\n",
       "</style>\n",
       "<table border=\"1\" class=\"dataframe\">\n",
       "  <thead>\n",
       "    <tr style=\"text-align: right;\">\n",
       "      <th></th>\n",
       "      <th>is_canceled</th>\n",
       "      <th>lead_time</th>\n",
       "      <th>arrival_date_week_number</th>\n",
       "      <th>stays_in_weekend_nights</th>\n",
       "      <th>stays_in_week_nights</th>\n",
       "      <th>adults</th>\n",
       "      <th>children</th>\n",
       "      <th>babies</th>\n",
       "      <th>is_repeated_guest</th>\n",
       "      <th>previous_cancellations</th>\n",
       "      <th>...</th>\n",
       "      <th>assigned_room_type_K</th>\n",
       "      <th>assigned_room_type_L</th>\n",
       "      <th>assigned_room_type_P</th>\n",
       "      <th>deposit_type_No Deposit</th>\n",
       "      <th>deposit_type_Non Refund</th>\n",
       "      <th>deposit_type_Refundable</th>\n",
       "      <th>customer_type_Contract</th>\n",
       "      <th>customer_type_Group</th>\n",
       "      <th>customer_type_Transient</th>\n",
       "      <th>customer_type_Transient-Party</th>\n",
       "    </tr>\n",
       "  </thead>\n",
       "  <tbody>\n",
       "    <tr>\n",
       "      <th>0</th>\n",
       "      <td>0</td>\n",
       "      <td>342</td>\n",
       "      <td>27</td>\n",
       "      <td>0</td>\n",
       "      <td>0</td>\n",
       "      <td>2</td>\n",
       "      <td>0.0</td>\n",
       "      <td>0</td>\n",
       "      <td>0</td>\n",
       "      <td>0</td>\n",
       "      <td>...</td>\n",
       "      <td>0</td>\n",
       "      <td>0</td>\n",
       "      <td>0</td>\n",
       "      <td>1</td>\n",
       "      <td>0</td>\n",
       "      <td>0</td>\n",
       "      <td>0</td>\n",
       "      <td>0</td>\n",
       "      <td>1</td>\n",
       "      <td>0</td>\n",
       "    </tr>\n",
       "    <tr>\n",
       "      <th>1</th>\n",
       "      <td>0</td>\n",
       "      <td>257</td>\n",
       "      <td>27</td>\n",
       "      <td>0</td>\n",
       "      <td>2</td>\n",
       "      <td>1</td>\n",
       "      <td>0.0</td>\n",
       "      <td>0</td>\n",
       "      <td>0</td>\n",
       "      <td>0</td>\n",
       "      <td>...</td>\n",
       "      <td>0</td>\n",
       "      <td>0</td>\n",
       "      <td>0</td>\n",
       "      <td>1</td>\n",
       "      <td>0</td>\n",
       "      <td>0</td>\n",
       "      <td>0</td>\n",
       "      <td>0</td>\n",
       "      <td>1</td>\n",
       "      <td>0</td>\n",
       "    </tr>\n",
       "    <tr>\n",
       "      <th>2</th>\n",
       "      <td>0</td>\n",
       "      <td>257</td>\n",
       "      <td>27</td>\n",
       "      <td>0</td>\n",
       "      <td>2</td>\n",
       "      <td>2</td>\n",
       "      <td>0.0</td>\n",
       "      <td>0</td>\n",
       "      <td>0</td>\n",
       "      <td>0</td>\n",
       "      <td>...</td>\n",
       "      <td>0</td>\n",
       "      <td>0</td>\n",
       "      <td>0</td>\n",
       "      <td>1</td>\n",
       "      <td>0</td>\n",
       "      <td>0</td>\n",
       "      <td>0</td>\n",
       "      <td>0</td>\n",
       "      <td>1</td>\n",
       "      <td>0</td>\n",
       "    </tr>\n",
       "    <tr>\n",
       "      <th>3</th>\n",
       "      <td>0</td>\n",
       "      <td>257</td>\n",
       "      <td>27</td>\n",
       "      <td>0</td>\n",
       "      <td>2</td>\n",
       "      <td>2</td>\n",
       "      <td>0.0</td>\n",
       "      <td>0</td>\n",
       "      <td>0</td>\n",
       "      <td>0</td>\n",
       "      <td>...</td>\n",
       "      <td>0</td>\n",
       "      <td>0</td>\n",
       "      <td>0</td>\n",
       "      <td>1</td>\n",
       "      <td>0</td>\n",
       "      <td>0</td>\n",
       "      <td>0</td>\n",
       "      <td>0</td>\n",
       "      <td>1</td>\n",
       "      <td>0</td>\n",
       "    </tr>\n",
       "    <tr>\n",
       "      <th>4</th>\n",
       "      <td>0</td>\n",
       "      <td>257</td>\n",
       "      <td>27</td>\n",
       "      <td>0</td>\n",
       "      <td>2</td>\n",
       "      <td>2</td>\n",
       "      <td>0.0</td>\n",
       "      <td>0</td>\n",
       "      <td>0</td>\n",
       "      <td>0</td>\n",
       "      <td>...</td>\n",
       "      <td>0</td>\n",
       "      <td>0</td>\n",
       "      <td>0</td>\n",
       "      <td>1</td>\n",
       "      <td>0</td>\n",
       "      <td>0</td>\n",
       "      <td>0</td>\n",
       "      <td>0</td>\n",
       "      <td>1</td>\n",
       "      <td>0</td>\n",
       "    </tr>\n",
       "    <tr>\n",
       "      <th>...</th>\n",
       "      <td>...</td>\n",
       "      <td>...</td>\n",
       "      <td>...</td>\n",
       "      <td>...</td>\n",
       "      <td>...</td>\n",
       "      <td>...</td>\n",
       "      <td>...</td>\n",
       "      <td>...</td>\n",
       "      <td>...</td>\n",
       "      <td>...</td>\n",
       "      <td>...</td>\n",
       "      <td>...</td>\n",
       "      <td>...</td>\n",
       "      <td>...</td>\n",
       "      <td>...</td>\n",
       "      <td>...</td>\n",
       "      <td>...</td>\n",
       "      <td>...</td>\n",
       "      <td>...</td>\n",
       "      <td>...</td>\n",
       "      <td>...</td>\n",
       "    </tr>\n",
       "    <tr>\n",
       "      <th>91526</th>\n",
       "      <td>1</td>\n",
       "      <td>19</td>\n",
       "      <td>13</td>\n",
       "      <td>0</td>\n",
       "      <td>2</td>\n",
       "      <td>2</td>\n",
       "      <td>2.0</td>\n",
       "      <td>0</td>\n",
       "      <td>0</td>\n",
       "      <td>0</td>\n",
       "      <td>...</td>\n",
       "      <td>0</td>\n",
       "      <td>0</td>\n",
       "      <td>0</td>\n",
       "      <td>1</td>\n",
       "      <td>0</td>\n",
       "      <td>0</td>\n",
       "      <td>0</td>\n",
       "      <td>0</td>\n",
       "      <td>1</td>\n",
       "      <td>0</td>\n",
       "    </tr>\n",
       "    <tr>\n",
       "      <th>91527</th>\n",
       "      <td>0</td>\n",
       "      <td>28</td>\n",
       "      <td>13</td>\n",
       "      <td>0</td>\n",
       "      <td>2</td>\n",
       "      <td>2</td>\n",
       "      <td>0.0</td>\n",
       "      <td>0</td>\n",
       "      <td>0</td>\n",
       "      <td>0</td>\n",
       "      <td>...</td>\n",
       "      <td>0</td>\n",
       "      <td>0</td>\n",
       "      <td>0</td>\n",
       "      <td>1</td>\n",
       "      <td>0</td>\n",
       "      <td>0</td>\n",
       "      <td>0</td>\n",
       "      <td>0</td>\n",
       "      <td>1</td>\n",
       "      <td>0</td>\n",
       "    </tr>\n",
       "    <tr>\n",
       "      <th>91528</th>\n",
       "      <td>0</td>\n",
       "      <td>2</td>\n",
       "      <td>13</td>\n",
       "      <td>0</td>\n",
       "      <td>1</td>\n",
       "      <td>2</td>\n",
       "      <td>0.0</td>\n",
       "      <td>0</td>\n",
       "      <td>0</td>\n",
       "      <td>0</td>\n",
       "      <td>...</td>\n",
       "      <td>0</td>\n",
       "      <td>0</td>\n",
       "      <td>0</td>\n",
       "      <td>1</td>\n",
       "      <td>0</td>\n",
       "      <td>0</td>\n",
       "      <td>0</td>\n",
       "      <td>0</td>\n",
       "      <td>1</td>\n",
       "      <td>0</td>\n",
       "    </tr>\n",
       "    <tr>\n",
       "      <th>91529</th>\n",
       "      <td>0</td>\n",
       "      <td>30</td>\n",
       "      <td>13</td>\n",
       "      <td>3</td>\n",
       "      <td>7</td>\n",
       "      <td>2</td>\n",
       "      <td>0.0</td>\n",
       "      <td>0</td>\n",
       "      <td>0</td>\n",
       "      <td>0</td>\n",
       "      <td>...</td>\n",
       "      <td>0</td>\n",
       "      <td>0</td>\n",
       "      <td>0</td>\n",
       "      <td>1</td>\n",
       "      <td>0</td>\n",
       "      <td>0</td>\n",
       "      <td>0</td>\n",
       "      <td>0</td>\n",
       "      <td>1</td>\n",
       "      <td>0</td>\n",
       "    </tr>\n",
       "    <tr>\n",
       "      <th>91530</th>\n",
       "      <td>0</td>\n",
       "      <td>1</td>\n",
       "      <td>13</td>\n",
       "      <td>0</td>\n",
       "      <td>1</td>\n",
       "      <td>1</td>\n",
       "      <td>0.0</td>\n",
       "      <td>0</td>\n",
       "      <td>0</td>\n",
       "      <td>0</td>\n",
       "      <td>...</td>\n",
       "      <td>0</td>\n",
       "      <td>0</td>\n",
       "      <td>0</td>\n",
       "      <td>1</td>\n",
       "      <td>0</td>\n",
       "      <td>0</td>\n",
       "      <td>0</td>\n",
       "      <td>0</td>\n",
       "      <td>1</td>\n",
       "      <td>0</td>\n",
       "    </tr>\n",
       "  </tbody>\n",
       "</table>\n",
       "<p>91531 rows × 230 columns</p>\n",
       "</div>"
      ],
      "text/plain": [
       "       is_canceled  lead_time  arrival_date_week_number  \\\n",
       "0                0        342                        27   \n",
       "1                0        257                        27   \n",
       "2                0        257                        27   \n",
       "3                0        257                        27   \n",
       "4                0        257                        27   \n",
       "...            ...        ...                       ...   \n",
       "91526            1         19                        13   \n",
       "91527            0         28                        13   \n",
       "91528            0          2                        13   \n",
       "91529            0         30                        13   \n",
       "91530            0          1                        13   \n",
       "\n",
       "       stays_in_weekend_nights  stays_in_week_nights  adults  children  \\\n",
       "0                            0                     0       2       0.0   \n",
       "1                            0                     2       1       0.0   \n",
       "2                            0                     2       2       0.0   \n",
       "3                            0                     2       2       0.0   \n",
       "4                            0                     2       2       0.0   \n",
       "...                        ...                   ...     ...       ...   \n",
       "91526                        0                     2       2       2.0   \n",
       "91527                        0                     2       2       0.0   \n",
       "91528                        0                     1       2       0.0   \n",
       "91529                        3                     7       2       0.0   \n",
       "91530                        0                     1       1       0.0   \n",
       "\n",
       "       babies  is_repeated_guest  previous_cancellations  ...  \\\n",
       "0           0                  0                       0  ...   \n",
       "1           0                  0                       0  ...   \n",
       "2           0                  0                       0  ...   \n",
       "3           0                  0                       0  ...   \n",
       "4           0                  0                       0  ...   \n",
       "...       ...                ...                     ...  ...   \n",
       "91526       0                  0                       0  ...   \n",
       "91527       0                  0                       0  ...   \n",
       "91528       0                  0                       0  ...   \n",
       "91529       0                  0                       0  ...   \n",
       "91530       0                  0                       0  ...   \n",
       "\n",
       "       assigned_room_type_K  assigned_room_type_L  assigned_room_type_P  \\\n",
       "0                         0                     0                     0   \n",
       "1                         0                     0                     0   \n",
       "2                         0                     0                     0   \n",
       "3                         0                     0                     0   \n",
       "4                         0                     0                     0   \n",
       "...                     ...                   ...                   ...   \n",
       "91526                     0                     0                     0   \n",
       "91527                     0                     0                     0   \n",
       "91528                     0                     0                     0   \n",
       "91529                     0                     0                     0   \n",
       "91530                     0                     0                     0   \n",
       "\n",
       "       deposit_type_No Deposit  deposit_type_Non Refund  \\\n",
       "0                            1                        0   \n",
       "1                            1                        0   \n",
       "2                            1                        0   \n",
       "3                            1                        0   \n",
       "4                            1                        0   \n",
       "...                        ...                      ...   \n",
       "91526                        1                        0   \n",
       "91527                        1                        0   \n",
       "91528                        1                        0   \n",
       "91529                        1                        0   \n",
       "91530                        1                        0   \n",
       "\n",
       "       deposit_type_Refundable  customer_type_Contract  customer_type_Group  \\\n",
       "0                            0                       0                    0   \n",
       "1                            0                       0                    0   \n",
       "2                            0                       0                    0   \n",
       "3                            0                       0                    0   \n",
       "4                            0                       0                    0   \n",
       "...                        ...                     ...                  ...   \n",
       "91526                        0                       0                    0   \n",
       "91527                        0                       0                    0   \n",
       "91528                        0                       0                    0   \n",
       "91529                        0                       0                    0   \n",
       "91530                        0                       0                    0   \n",
       "\n",
       "       customer_type_Transient  customer_type_Transient-Party  \n",
       "0                            1                              0  \n",
       "1                            1                              0  \n",
       "2                            1                              0  \n",
       "3                            1                              0  \n",
       "4                            1                              0  \n",
       "...                        ...                            ...  \n",
       "91526                        1                              0  \n",
       "91527                        1                              0  \n",
       "91528                        1                              0  \n",
       "91529                        1                              0  \n",
       "91530                        1                              0  \n",
       "\n",
       "[91531 rows x 230 columns]"
      ]
     },
     "metadata": {},
     "output_type": "display_data"
    }
   ],
   "source": [
    "display(train_dum)"
   ]
  },
  {
   "cell_type": "markdown",
   "metadata": {},
   "source": [
    "### daily revenue = adr * number of days * is cancel(opposite)"
   ]
  },
  {
   "cell_type": "markdown",
   "metadata": {},
   "source": [
    "### Predict whether the reservation will be cancelled => logistic"
   ]
  },
  {
   "cell_type": "code",
   "execution_count": 13,
   "metadata": {},
   "outputs": [],
   "source": [
    "can_y = train_dum[\"is_canceled\"]\n",
    "tmp = [train_dum[\"previous_cancellations\"], train_dum[\"previous_bookings_not_canceled\"], \n",
    "       train_dum[\"booking_changes\"]]\n",
    "can_x = pd.concat(tmp, axis = 1)"
   ]
  },
  {
   "cell_type": "code",
   "execution_count": 14,
   "metadata": {},
   "outputs": [],
   "source": [
    "xcan_subtrain, xcan_val, ycan_subtrain, ycan_val = train_test_split(can_x, can_y, test_size=0.1, random_state=1024)"
   ]
  },
  {
   "cell_type": "code",
   "execution_count": 15,
   "metadata": {},
   "outputs": [],
   "source": [
    "LR_a = 0.0\n",
    "max_score = -10**10\n",
    "\n",
    "accuracies1 = []\n",
    "recalls1 = []\n",
    "f1s1 = []\n",
    "precisions1 = []\n",
    "\n",
    "for i in np.logspace(-2,2,20):\n",
    "    sk_current = LogisticRegression(C = 1/i).fit(xcan_subtrain, ycan_subtrain)\n",
    "    sk_ypred = sk_current.predict(xcan_val)\n",
    "    \n",
    "    acc = accuracy_score(ycan_val, sk_ypred)\n",
    "    accuracies1.append(acc)\n",
    "    recalls1.append(recall_score(ycan_val, sk_ypred))\n",
    "    f1s1.append(f1_score(ycan_val, sk_ypred))\n",
    "    precisions1.append(precision_score(ycan_val, sk_ypred))\n",
    "    \n",
    "    if acc > max_score:\n",
    "        max_score = acc\n",
    "        LR_a = i"
   ]
  },
  {
   "cell_type": "code",
   "execution_count": 16,
   "metadata": {},
   "outputs": [
    {
     "name": "stdout",
     "output_type": "stream",
     "text": [
      "0.7003495739567402\n",
      "0.01\n"
     ]
    }
   ],
   "source": [
    "print(max_score)\n",
    "print(LR_a)"
   ]
  },
  {
   "cell_type": "markdown",
   "metadata": {},
   "source": [
    "### Predict whether the reservation will be cancelled => XGBoost"
   ]
  },
  {
   "cell_type": "code",
   "execution_count": 177,
   "metadata": {},
   "outputs": [
    {
     "name": "stdout",
     "output_type": "stream",
     "text": [
      "! update best !\n",
      "s: 0.800000, d: 5, acc: 0.699913, \n",
      "\n",
      "! update best !\n",
      "s: 0.850000, d: 5, acc: 0.700022, \n",
      "\n",
      "s: 0.950000, d: 5, acc: 0.699913, \n",
      "\n",
      "s: 0.800000, d: 7, acc: 0.699913, \n",
      "\n",
      "s: 0.850000, d: 7, acc: 0.699913, \n",
      "\n",
      "s: 0.950000, d: 7, acc: 0.699913, \n",
      "\n",
      "s: 0.800000, d: 10, acc: 0.699913, \n",
      "\n",
      "s: 0.850000, d: 10, acc: 0.699803, \n",
      "\n",
      "s: 0.950000, d: 10, acc: 0.699803, \n",
      "\n",
      "best s: 0.850000, best d: 5, acc: 0.700022\n"
     ]
    }
   ],
   "source": [
    "best_s_can = 0\n",
    "best_d_can = 0\n",
    "max_score_can = 0\n",
    "\n",
    "for d in max_d:\n",
    "    for s in sub_s:\n",
    "        # --------------------------------------------------------- #\n",
    "        # train\n",
    "        xgbc = XGBClassifier(booster=\"gbtree\",\n",
    "                     max_depth = d,\n",
    "                     learning_rate=0.05,\n",
    "                     n_estimators=200,\n",
    "                     subsample = s, \n",
    "                     objective='binary:logistic', \n",
    "                     eval_metric = 'error')\n",
    "        xgbc.fit(xcan_subtrain, ycan_subtrain)\n",
    "\n",
    "        # valid\n",
    "        ypred = xgbc.predict(xcan_val)\n",
    "        acc = accuracy_score(ycan_val, ypred)\n",
    "        \n",
    "        if acc > max_score_can:\n",
    "            print(\"! update best !\")\n",
    "            best_s_can = s\n",
    "            best_d_can = d\n",
    "            max_score_can = acc\n",
    "        # --------------------------------------------------------- #\n",
    "        print(\"s: %f, d: %d, acc: %f, \\n\"%(s,d,acc))\n",
    "print(\"best s: %f, best d: %d, acc: %f\"%(best_s_can,best_d_can,max_score_can))"
   ]
  },
  {
   "cell_type": "code",
   "execution_count": 185,
   "metadata": {},
   "outputs": [
    {
     "name": "stdout",
     "output_type": "stream",
     "text": [
      "! update best !\n",
      "l: 0.050000, n: 200, score: 0.700022, \n",
      "\n",
      "l: 0.050000, n: 500, score: 0.699803, \n",
      "\n",
      "l: 0.050000, n: 800, score: 0.699694, \n",
      "\n",
      "l: 0.050000, n: 1000, score: 0.699694, \n",
      "\n",
      "l: 0.075000, n: 200, score: 0.699803, \n",
      "\n",
      "l: 0.075000, n: 500, score: 0.699803, \n",
      "\n",
      "l: 0.075000, n: 800, score: 0.699694, \n",
      "\n",
      "l: 0.075000, n: 1000, score: 0.699694, \n",
      "\n",
      "l: 0.100000, n: 200, score: 0.699803, \n",
      "\n",
      "l: 0.100000, n: 500, score: 0.699694, \n",
      "\n",
      "l: 0.100000, n: 800, score: 0.699694, \n",
      "\n",
      "l: 0.100000, n: 1000, score: 0.699694, \n",
      "\n",
      "best l: 0.050000, best n: 200, score: 0.700022\n"
     ]
    }
   ],
   "source": [
    "best_l_can = 0\n",
    "best_n_can = 0\n",
    "max_score_can2 = 0\n",
    "\n",
    "for l in l_r:\n",
    "    for n in n_est:\n",
    "        # --------------------------------------------------------- #\n",
    "        # train\n",
    "        xgbc = XGBClassifier(booster=\"gbtree\",\n",
    "                     max_depth = best_d_can,\n",
    "                     learning_rate=l,\n",
    "                     n_estimators=n,\n",
    "                     subsample = best_s_can, \n",
    "                     objective='binary:logistic', \n",
    "                     eval_metric = 'error')\n",
    "        xgbc.fit(xcan_subtrain, ycan_subtrain)\n",
    "\n",
    "        # valid\n",
    "        ypred = xgbc.predict(xcan_val)\n",
    "        acc = accuracy_score(ycan_val, ypred)\n",
    "        \n",
    "        if acc > max_score_can2:\n",
    "            print(\"! update best !\")\n",
    "            best_l_can = l\n",
    "            best_n_can = n\n",
    "            max_score_can2 = acc\n",
    "        # --------------------------------------------------------- #\n",
    "        print(\"l: %f, n: %d, score: %f, \\n\"%(l,n,acc))\n",
    "print(\"best l: %f, best n: %d, score: %f\"%(best_l_can,best_n_can,max_score_can2))"
   ]
  },
  {
   "cell_type": "markdown",
   "metadata": {},
   "source": [
    "### Use all data"
   ]
  },
  {
   "cell_type": "code",
   "execution_count": 204,
   "metadata": {},
   "outputs": [],
   "source": [
    "can_y2 = train_dum[\"is_canceled\"]\n",
    "tt = df2.copy()\n",
    "del tt[\"country\"]\n",
    "del tt[\"is_canceled\"]\n",
    "all_can = pd.get_dummies(tt)"
   ]
  },
  {
   "cell_type": "code",
   "execution_count": 209,
   "metadata": {},
   "outputs": [],
   "source": [
    "xcan_sub2, xcan_val2, ycan_sub2, ycan_val2 = train_test_split(all_can, can_y2, test_size=0.1, random_state=1024)"
   ]
  },
  {
   "cell_type": "code",
   "execution_count": 212,
   "metadata": {},
   "outputs": [
    {
     "data": {
      "text/plain": [
       "23646    0\n",
       "38433    0\n",
       "77186    0\n",
       "32003    1\n",
       "1348     0\n",
       "        ..\n",
       "4961     0\n",
       "601      0\n",
       "19045    0\n",
       "74641    0\n",
       "71611    1\n",
       "Name: is_canceled, Length: 82377, dtype: int64"
      ]
     },
     "metadata": {},
     "output_type": "display_data"
    }
   ],
   "source": [
    "display(ycan_sub2)"
   ]
  },
  {
   "cell_type": "code",
   "execution_count": 213,
   "metadata": {},
   "outputs": [
    {
     "name": "stdout",
     "output_type": "stream",
     "text": [
      "! update best !\n",
      "s: 0.800000, d: 5, acc: 0.843456, \n",
      "\n",
      "s: 0.850000, d: 5, acc: 0.841599, \n",
      "\n",
      "s: 0.950000, d: 5, acc: 0.841053, \n",
      "\n",
      "! update best !\n",
      "s: 0.800000, d: 7, acc: 0.855364, \n",
      "\n",
      "s: 0.850000, d: 7, acc: 0.853944, \n",
      "\n",
      "s: 0.950000, d: 7, acc: 0.852633, \n",
      "\n",
      "! update best !\n",
      "s: 0.800000, d: 10, acc: 0.864212, \n",
      "\n",
      "s: 0.850000, d: 10, acc: 0.863120, \n",
      "\n",
      "! update best !\n",
      "s: 0.950000, d: 10, acc: 0.865742, \n",
      "\n",
      "best s: 0.950000, best d: 10, acc: 0.865742\n"
     ]
    }
   ],
   "source": [
    "best_s_can3 = 0\n",
    "best_d_can3 = 0\n",
    "max_score_can3 = 0\n",
    "\n",
    "for d in max_d:\n",
    "    for s in sub_s:\n",
    "        # --------------------------------------------------------- #\n",
    "        # train\n",
    "        xgbc = XGBClassifier(booster=\"gbtree\",\n",
    "                     max_depth = d,\n",
    "                     learning_rate=0.05,\n",
    "                     n_estimators=200,\n",
    "                     subsample = s, \n",
    "                     objective='binary:logistic', \n",
    "                    use_label_encoder =False,\n",
    "                     eval_metric = 'error')\n",
    "        xgbc.fit(xcan_sub2, ycan_sub2)\n",
    "\n",
    "        # valid\n",
    "        ypred = xgbc.predict(xcan_val2)\n",
    "        acc = accuracy_score(ycan_val2, ypred)\n",
    "        \n",
    "        if acc > max_score_can3:\n",
    "            print(\"! update best !\")\n",
    "            best_s_can3 = s\n",
    "            best_d_can3 = d\n",
    "            max_score_can3 = acc\n",
    "        # --------------------------------------------------------- #\n",
    "        print(\"s: %f, d: %d, acc: %f, \\n\"%(s,d,acc))\n",
    "print(\"best s: %f, best d: %d, acc: %f\"%(best_s_can3,best_d_can3,max_score_can3))"
   ]
  },
  {
   "cell_type": "code",
   "execution_count": 214,
   "metadata": {},
   "outputs": [
    {
     "name": "stdout",
     "output_type": "stream",
     "text": [
      "! update best !\n",
      "l: 0.050000, n: 200, score: 0.865742, \n",
      "\n",
      "! update best !\n",
      "l: 0.050000, n: 500, score: 0.872624, \n",
      "\n",
      "! update best !\n",
      "l: 0.050000, n: 800, score: 0.876447, \n",
      "\n",
      "l: 0.050000, n: 1000, score: 0.876447, \n",
      "\n",
      "l: 0.075000, n: 200, score: 0.869456, \n",
      "\n",
      "l: 0.075000, n: 500, score: 0.875901, \n",
      "\n",
      "! update best !\n",
      "l: 0.075000, n: 800, score: 0.876557, \n",
      "\n",
      "l: 0.075000, n: 1000, score: 0.876229, \n",
      "\n",
      "l: 0.100000, n: 200, score: 0.870002, \n",
      "\n",
      "l: 0.100000, n: 500, score: 0.874809, \n",
      "\n",
      "! update best !\n",
      "l: 0.100000, n: 800, score: 0.877540, \n",
      "\n",
      "l: 0.100000, n: 1000, score: 0.875137, \n",
      "\n",
      "best l: 0.100000, best n: 800, score: 0.877540\n"
     ]
    }
   ],
   "source": [
    "best_l_can3 = 0\n",
    "best_n_can3 = 0\n",
    "max_score_can4 = 0\n",
    "\n",
    "for l in l_r:\n",
    "    for n in n_est:\n",
    "        # --------------------------------------------------------- #\n",
    "        # train\n",
    "        xgbc = XGBClassifier(booster=\"gbtree\",\n",
    "                     max_depth = best_d_can3,\n",
    "                     learning_rate=l,\n",
    "                     n_estimators=n,\n",
    "                     subsample = best_s_can3, \n",
    "                     objective='binary:logistic', \n",
    "                     eval_metric = 'error')\n",
    "        xgbc.fit(xcan_sub2, ycan_sub2)\n",
    "\n",
    "        # valid\n",
    "        ypred = xgbc.predict(xcan_val2)\n",
    "        acc = accuracy_score(ycan_val2, ypred)\n",
    "        \n",
    "        if acc > max_score_can4:\n",
    "            print(\"! update best !\")\n",
    "            best_l_can3 = l\n",
    "            best_n_can3 = n\n",
    "            max_score_can4 = acc\n",
    "        # --------------------------------------------------------- #\n",
    "        print(\"l: %f, n: %d, score: %f, \\n\"%(l,n,acc))\n",
    "print(\"best l: %f, best n: %d, score: %f\"%(best_l_can3,best_n_can3,max_score_can4))"
   ]
  },
  {
   "cell_type": "code",
   "execution_count": null,
   "metadata": {},
   "outputs": [],
   "source": []
  },
  {
   "cell_type": "code",
   "execution_count": null,
   "metadata": {},
   "outputs": [],
   "source": []
  },
  {
   "cell_type": "code",
   "execution_count": 17,
   "metadata": {},
   "outputs": [],
   "source": [
    "for_adr = train_dum.copy()\n",
    "del for_adr[\"adr\"]\n",
    "adr_x = for_adr\n",
    "adr_y = train_dum[\"adr\"]"
   ]
  },
  {
   "cell_type": "code",
   "execution_count": 18,
   "metadata": {},
   "outputs": [],
   "source": [
    "xadr_sub, xadr_val, yadr_sub, yadr_val = train_test_split(adr_x, adr_y, test_size=0.1, random_state=1024)"
   ]
  },
  {
   "cell_type": "code",
   "execution_count": 19,
   "metadata": {},
   "outputs": [],
   "source": [
    "l_r = [0.05, 0.075, 0.1]\n",
    "n_est = [200, 500, 800, 1000]\n",
    "max_d=[5,7,10]\n",
    "sub_s = [0.8, 0.85, 0.95]"
   ]
  },
  {
   "cell_type": "code",
   "execution_count": 20,
   "metadata": {},
   "outputs": [],
   "source": [
    "XGBC_DT = dict()"
   ]
  },
  {
   "cell_type": "code",
   "execution_count": 26,
   "metadata": {},
   "outputs": [
    {
     "name": "stdout",
     "output_type": "stream",
     "text": [
      "! update best !\n",
      "s: 0.800000, d: 5, score: 0.815118, \n",
      "\n",
      "s: 0.850000, d: 5, score: 0.813143, \n",
      "\n",
      "s: 0.950000, d: 5, score: 0.814488, \n",
      "\n",
      "! update best !\n",
      "s: 0.800000, d: 7, score: 0.851001, \n",
      "\n",
      "s: 0.850000, d: 7, score: 0.849456, \n",
      "\n",
      "! update best !\n",
      "s: 0.950000, d: 7, score: 0.852224, \n",
      "\n",
      "! update best !\n",
      "s: 0.800000, d: 10, score: 0.871480, \n",
      "\n",
      "! update best !\n",
      "s: 0.850000, d: 10, score: 0.873940, \n",
      "\n",
      "s: 0.950000, d: 10, score: 0.869937, \n",
      "\n",
      "best s: 0.850000, best d: 10, score: 0.873940\n"
     ]
    }
   ],
   "source": [
    "best_s = 0\n",
    "best_d = 0\n",
    "max_score = 0\n",
    "\n",
    "for d in max_d:\n",
    "    for s in sub_s:\n",
    "        # --------------------------------------------------------- #\n",
    "        # train\n",
    "        xgbc = XGBRegressor(booster=\"gbtree\",\n",
    "                     max_depth = d,\n",
    "                     learning_rate=0.05,\n",
    "                     n_estimators=200,\n",
    "                     subsample = s)\n",
    "        xgbc.fit(xadr_sub, yadr_sub)\n",
    "        XGBC_DT[str(d)+'@'+str(s)] = xgbc\n",
    "\n",
    "        # valid\n",
    "        ypred = xgbc.predict(xadr_val)\n",
    "        score = xgbc.score(xadr_val, yadr_val)  \n",
    "        \n",
    "        if score > max_score:\n",
    "            print(\"! update best !\")\n",
    "            best_s = s\n",
    "            best_d = d\n",
    "            max_score = score\n",
    "        # --------------------------------------------------------- #\n",
    "        print(\"s: %f, d: %d, score: %f, \\n\"%(s,d,score))\n",
    "print(\"best s: %f, best d: %d, score: %f\"%(best_s,best_d,max_score))"
   ]
  },
  {
   "cell_type": "code",
   "execution_count": 27,
   "metadata": {},
   "outputs": [
    {
     "data": {
      "text/plain": [
       "['imb_XGBC']"
      ]
     },
     "execution_count": 27,
     "metadata": {},
     "output_type": "execute_result"
    }
   ],
   "source": [
    "import joblib\n",
    "joblib.dump(XGBC_DT[str(best_d)+'@'+str(best_s)], 'imb_XGBC')"
   ]
  },
  {
   "cell_type": "code",
   "execution_count": 28,
   "metadata": {},
   "outputs": [],
   "source": [
    "XGBC_DT2 = dict()"
   ]
  },
  {
   "cell_type": "code",
   "execution_count": 30,
   "metadata": {},
   "outputs": [
    {
     "name": "stdout",
     "output_type": "stream",
     "text": [
      "! update best !\n",
      "l: 0.050000, n: 200, score: 0.873940, \n",
      "\n",
      "! update best !\n",
      "l: 0.050000, n: 500, score: 0.880936, \n",
      "\n",
      "! update best !\n",
      "l: 0.050000, n: 800, score: 0.883001, \n",
      "\n",
      "! update best !\n",
      "l: 0.050000, n: 1000, score: 0.883526, \n",
      "\n",
      "l: 0.075000, n: 200, score: 0.873833, \n",
      "\n",
      "l: 0.075000, n: 500, score: 0.879477, \n",
      "\n",
      "l: 0.075000, n: 800, score: 0.880434, \n",
      "\n",
      "l: 0.075000, n: 1000, score: 0.880445, \n",
      "\n",
      "l: 0.100000, n: 200, score: 0.877594, \n",
      "\n",
      "l: 0.100000, n: 500, score: 0.880874, \n",
      "\n",
      "l: 0.100000, n: 800, score: 0.881179, \n",
      "\n",
      "l: 0.100000, n: 1000, score: 0.880666, \n",
      "\n",
      "best l: 0.050000, best n: 1000, score: 0.883526\n"
     ]
    }
   ],
   "source": [
    "best_l = 0\n",
    "best_n = 0\n",
    "max_score2 = 0\n",
    "\n",
    "for l in l_r:\n",
    "    for n in n_est:\n",
    "        # --------------------------------------------------------- #\n",
    "        # train\n",
    "        xgbc = XGBRegressor(booster=\"gbtree\",\n",
    "                     max_depth = best_d,\n",
    "                     learning_rate = l,\n",
    "                     n_estimators = n,\n",
    "                     subsample = best_s)\n",
    "        xgbc.fit(xadr_sub, yadr_sub)\n",
    "        XGBC_DT2[str(l)+'@'+str(n)] = xgbc\n",
    "\n",
    "        # valid\n",
    "        ypred = xgbc.predict(xadr_val)\n",
    "        score = xgbc.score(xadr_val, yadr_val)  \n",
    "        \n",
    "        if score > max_score2:\n",
    "            print(\"! update best !\")\n",
    "            best_l = l\n",
    "            best_n = n\n",
    "            max_score2 = score\n",
    "        # --------------------------------------------------------- #\n",
    "        print(\"l: %f, n: %d, score: %f, \\n\"%(l,n,score))\n",
    "print(\"best l: %f, best n: %d, score: %f\"%(best_l,best_n,max_score2))"
   ]
  },
  {
   "cell_type": "code",
   "execution_count": 54,
   "metadata": {},
   "outputs": [
    {
     "name": "stdout",
     "output_type": "stream",
     "text": [
      "          arrDate         rev\n",
      "0      2015-07-01   -0.000000\n",
      "1      2015-07-01  150.104454\n",
      "2      2015-07-01  149.092802\n",
      "3      2015-07-01  152.752575\n",
      "4      2015-07-01   98.823294\n",
      "...           ...         ...\n",
      "91526  2017-03-31    0.000000\n",
      "91527  2017-03-31  -13.644203\n",
      "91528  2017-03-31   90.814554\n",
      "91529  2017-03-31  381.355651\n",
      "91530  2017-03-31   58.196470\n",
      "\n",
      "[91531 rows x 2 columns]\n"
     ]
    }
   ],
   "source": [
    "rev_y = train_l[\"label\"]\n",
    "op = [1]*train.shape[0]\n",
    "tmp_x = train[\"adr\"]*(op - train[\"is_canceled\"])*(train[\"stays_in_weekend_nights\"] + train[\"stays_in_week_nights\"])\n",
    "arr_df = pd.DataFrame(arr_date)\n",
    "cat_x = pd.concat([arr_df, tmp_x], axis = 1)\n",
    "cat_x.columns = [\"arrDate\", \"rev\"]\n",
    "print(cat_x)"
   ]
  },
  {
   "cell_type": "code",
   "execution_count": 43,
   "metadata": {},
   "outputs": [
    {
     "name": "stdout",
     "output_type": "stream",
     "text": [
      "0      2015-07-01\n",
      "1      2015-07-02\n",
      "2      2015-07-03\n",
      "3      2015-07-04\n",
      "4      2015-07-05\n",
      "          ...    \n",
      "635    2017-03-27\n",
      "636    2017-03-28\n",
      "637    2017-03-29\n",
      "638    2017-03-30\n",
      "639    2017-03-31\n",
      "Name: arrival_date, Length: 640, dtype: object\n"
     ]
    }
   ],
   "source": [
    "print(train_l[\"arrival_date\"])"
   ]
  },
  {
   "cell_type": "code",
   "execution_count": 55,
   "metadata": {},
   "outputs": [],
   "source": [
    "def unique(list1): \n",
    "    unique_list = [] \n",
    "    for x in list1: \n",
    "        # check if exists in unique_list or not \n",
    "        if x not in unique_list: \n",
    "            unique_list.append(x) \n",
    "    return unique_list"
   ]
  },
  {
   "cell_type": "code",
   "execution_count": 56,
   "metadata": {},
   "outputs": [
    {
     "name": "stdout",
     "output_type": "stream",
     "text": [
      "640\n"
     ]
    }
   ],
   "source": [
    "uni_date = unique(arr_date)\n",
    "print(len(uni_date))"
   ]
  },
  {
   "cell_type": "code",
   "execution_count": 77,
   "metadata": {},
   "outputs": [],
   "source": [
    "blank = [0]*len(uni_date)"
   ]
  },
  {
   "cell_type": "code",
   "execution_count": 78,
   "metadata": {},
   "outputs": [],
   "source": [
    "#sum up\n",
    "for i in range(cat_x.shape[0]):\n",
    "    for j in range(len(uni_date)):\n",
    "        if cat_x[\"arrDate\"][i] == uni_date[j]:\n",
    "            blank[j] += cat_x[\"rev\"][i]\n",
    "            break"
   ]
  },
  {
   "cell_type": "code",
   "execution_count": 80,
   "metadata": {},
   "outputs": [],
   "source": [
    "uni_df = pd.DataFrame(uni_date)\n",
    "blank = pd.DataFrame(blank)\n",
    "cat_uni = pd.concat([uni_df, blank], axis = 1)\n",
    "cat_uni.columns = [\"arrDate\", \"allRev\"]"
   ]
  },
  {
   "cell_type": "code",
   "execution_count": 81,
   "metadata": {},
   "outputs": [
    {
     "name": "stdout",
     "output_type": "stream",
     "text": [
      "        arrDate        allRev\n",
      "0    2015-07-01  20311.186621\n",
      "1    2015-07-02  16530.645277\n",
      "2    2015-07-03  12966.714164\n",
      "3    2015-07-04  17480.654256\n",
      "4    2015-07-05  19591.458478\n",
      "..          ...           ...\n",
      "635  2017-03-27  26217.381380\n",
      "636  2017-03-28  16185.177703\n",
      "637  2017-03-29  24002.255525\n",
      "638  2017-03-30  33095.297394\n",
      "639  2017-03-31  36062.103164\n",
      "\n",
      "[640 rows x 2 columns]\n"
     ]
    }
   ],
   "source": [
    "print(cat_uni)"
   ]
  },
  {
   "cell_type": "markdown",
   "metadata": {},
   "source": [
    "### Predict class"
   ]
  },
  {
   "cell_type": "code",
   "execution_count": 87,
   "metadata": {},
   "outputs": [],
   "source": [
    "xcl = cat_uni[\"allRev\"]\n",
    "ycl = train_l[\"label\"]\n",
    "xcl_sub, xcl_val, ycl_sub, ycl_val = train_test_split(xcl, ycl, test_size=0.1, random_state=1024)\n",
    "xcl_sub = xcl_sub.to_numpy().reshape(-1,1)\n",
    "xcl_val = xcl_val.to_numpy().reshape(-1,1)"
   ]
  },
  {
   "cell_type": "code",
   "execution_count": 83,
   "metadata": {},
   "outputs": [],
   "source": [
    "XGBC_DT3 = dict()"
   ]
  },
  {
   "cell_type": "code",
   "execution_count": 101,
   "metadata": {},
   "outputs": [],
   "source": [
    "LR_a2 = 0.0\n",
    "max_score2 = -10**10\n",
    "\n",
    "accuracies2 = []\n",
    "\n",
    "for i in np.logspace(-2,2,20):\n",
    "    sk_current = LogisticRegression(C = 1/i, multi_class='auto').fit(xcl_sub, ycl_sub)\n",
    "    sk_ypred = sk_current.predict(xcl_val)\n",
    "    \n",
    "    acc = accuracy_score(ycl_val, sk_ypred)\n",
    "    accuracies2.append(acc)\n",
    "    \n",
    "    if acc > max_score2:\n",
    "        max_score2 = acc\n",
    "        LR_a2 = i"
   ]
  },
  {
   "cell_type": "code",
   "execution_count": 102,
   "metadata": {},
   "outputs": [
    {
     "name": "stdout",
     "output_type": "stream",
     "text": [
      "0.01\n",
      "0.296875\n"
     ]
    }
   ],
   "source": [
    "print(LR_a2)\n",
    "print(max_score2)"
   ]
  },
  {
   "cell_type": "code",
   "execution_count": 92,
   "metadata": {},
   "outputs": [],
   "source": [
    "import xgboost as xgb"
   ]
  },
  {
   "cell_type": "code",
   "execution_count": 93,
   "metadata": {},
   "outputs": [],
   "source": [
    "dsub = xgb.DMatrix(xcl_sub, label=ycl_sub)\n",
    "dval = xgb.DMatrix(xcl_val, label=ycl_val)"
   ]
  },
  {
   "cell_type": "code",
   "execution_count": 114,
   "metadata": {},
   "outputs": [
    {
     "name": "stdout",
     "output_type": "stream",
     "text": [
      "! update best !\n",
      "s: 0.800000, d: 5, acc: 1.000000, \n",
      "\n",
      "s: 0.850000, d: 5, acc: 1.000000, \n",
      "\n",
      "s: 0.950000, d: 5, acc: 1.000000, \n",
      "\n",
      "s: 0.800000, d: 7, acc: 1.000000, \n",
      "\n",
      "s: 0.850000, d: 7, acc: 1.000000, \n",
      "\n",
      "s: 0.950000, d: 7, acc: 1.000000, \n",
      "\n",
      "s: 0.800000, d: 10, acc: 1.000000, \n",
      "\n",
      "s: 0.850000, d: 10, acc: 1.000000, \n",
      "\n",
      "s: 0.950000, d: 10, acc: 1.000000, \n",
      "\n",
      "best s: 0.800000, best d: 5, acc: 1.000000\n"
     ]
    }
   ],
   "source": [
    "best_s_cl = 0\n",
    "best_d_cl = 0\n",
    "max_score_cl = 0\n",
    "\n",
    "for d in max_d:\n",
    "    for s in sub_s:\n",
    "        # --------------------------------------------------------- #\n",
    "        # train\n",
    "        param = {'max_depth':d, 'eta':1, 'objective':'multi:softmax', 'num_class':10, 'learning_rate':0.05, \n",
    "                'subsample':s, 'booster':\"gbtree\", 'eval_metric':'mlogloss'}\n",
    "        num_round = 200\n",
    "        bst = xgb.train(param, dsub, num_round)\n",
    "\n",
    "        # valid\n",
    "        ypred = bst.predict(dval)\n",
    "        acc = accuracy_score(ycl_val, ypred)\n",
    "        #score = xgb.score(xcl_val, ycl_val)  \n",
    "        \n",
    "        if acc > max_score_cl:\n",
    "            print(\"! update best !\")\n",
    "            best_s_cl = s\n",
    "            best_d_cl = d\n",
    "            max_score_cl = acc\n",
    "        # --------------------------------------------------------- #\n",
    "        print(\"s: %f, d: %d, acc: %f, \\n\"%(s,d,acc))\n",
    "print(\"best s: %f, best d: %d, acc: %f\"%(best_s_cl,best_d_cl,max_score_cl))"
   ]
  },
  {
   "cell_type": "code",
   "execution_count": null,
   "metadata": {},
   "outputs": [],
   "source": [
    "best_s_cl = 0\n",
    "best_d_cl = 0\n",
    "max_score_cl = 0\n",
    "\n",
    "for d in max_d:\n",
    "    for s in sub_s:\n",
    "        # --------------------------------------------------------- #\n",
    "        # train\n",
    "        param = {'max_depth':d, 'eta':1, 'objective':'multi:softmax', 'num_class':10, 'learning_rate':0.05, \n",
    "                'subsample':s, 'booster':\"gbtree\", 'eval_metric':'mlogloss'}\n",
    "        num_round = 200\n",
    "        bst = xgb.train(param, dsub, num_round)\n",
    "\n",
    "        # valid\n",
    "        ypred = bst.predict(dval)\n",
    "        acc = accuracy_score(ycl_val, ypred)\n",
    "        #score = xgb.score(xcl_val, ycl_val)  \n",
    "        \n",
    "        if acc > max_score_cl:\n",
    "            print(\"! update best !\")\n",
    "            best_s_cl = s\n",
    "            best_d_cl = d\n",
    "            max_score_cl = acc\n",
    "        # --------------------------------------------------------- #\n",
    "        print(\"s: %f, d: %d, acc: %f, \\n\"%(s,d,acc))\n",
    "print(\"best s: %f, best d: %d, acc: %f\"%(best_s_cl,best_d_cl,max_score_cl))"
   ]
  },
  {
   "cell_type": "code",
   "execution_count": 116,
   "metadata": {},
   "outputs": [
    {
     "name": "stdout",
     "output_type": "stream",
     "text": [
      "! update best !\n",
      "l: 0.050000, n: 200, acc: 1.000000, \n",
      "\n",
      "l: 0.050000, n: 500, acc: 1.000000, \n",
      "\n",
      "l: 0.050000, n: 800, acc: 1.000000, \n",
      "\n",
      "l: 0.050000, n: 1000, acc: 1.000000, \n",
      "\n",
      "l: 0.075000, n: 200, acc: 1.000000, \n",
      "\n",
      "l: 0.075000, n: 500, acc: 1.000000, \n",
      "\n",
      "l: 0.075000, n: 800, acc: 1.000000, \n",
      "\n",
      "l: 0.075000, n: 1000, acc: 1.000000, \n",
      "\n",
      "l: 0.100000, n: 200, acc: 1.000000, \n",
      "\n",
      "l: 0.100000, n: 500, acc: 1.000000, \n",
      "\n",
      "l: 0.100000, n: 800, acc: 1.000000, \n",
      "\n",
      "l: 0.100000, n: 1000, acc: 1.000000, \n",
      "\n",
      "best l: 0.050000, best n: 200, acc: 1.000000\n"
     ]
    }
   ],
   "source": [
    "best_l_cl = 0\n",
    "best_n_cl = 0\n",
    "max_score_cl2 = 0\n",
    "\n",
    "for l in l_r:\n",
    "    for n in n_est:\n",
    "        # --------------------------------------------------------- #\n",
    "        # train\n",
    "        param = {'max_depth':best_d_cl, 'eta':1, 'objective':'multi:softmax', 'num_class':10, \n",
    "                 'learning_rate':l, 'subsample':best_s_cl, 'booster':\"gbtree\", 'eval_metric':'mlogloss'}\n",
    "        num_round = n\n",
    "        bst = xgb.train(param, dsub, num_round)\n",
    "\n",
    "        # valid\n",
    "        ypred = bst.predict(dval)\n",
    "        acc = accuracy_score(ycl_val, ypred)\n",
    "        \n",
    "        if acc > max_score_cl2:\n",
    "            print(\"! update best !\")\n",
    "            best_l_cl = l\n",
    "            best_n_cl = n\n",
    "            max_score_cl2 = acc\n",
    "        # --------------------------------------------------------- #\n",
    "        print(\"l: %f, n: %d, acc: %f, \\n\"%(l,n,acc))\n",
    "print(\"best l: %f, best n: %d, acc: %f\"%(best_l_cl,best_n_cl,max_score_cl2))"
   ]
  },
  {
   "cell_type": "markdown",
   "metadata": {},
   "source": [
    "### Test"
   ]
  },
  {
   "cell_type": "code",
   "execution_count": 118,
   "metadata": {},
   "outputs": [],
   "source": [
    "df_test = test.copy()\n",
    "del df_test[\"ID\"]"
   ]
  },
  {
   "cell_type": "code",
   "execution_count": 119,
   "metadata": {},
   "outputs": [],
   "source": [
    "arr_date_test = change_date(df_test)"
   ]
  },
  {
   "cell_type": "code",
   "execution_count": 121,
   "metadata": {},
   "outputs": [],
   "source": [
    "df2_test = df_test.copy()\n",
    "del df2_test[\"arrival_date_year\"]\n",
    "del df2_test[\"arrival_date_month\"]\n",
    "del df2_test[\"arrival_date_day_of_month\"]\n",
    "test_dum = pd.get_dummies(df2_test)"
   ]
  },
  {
   "cell_type": "code",
   "execution_count": 125,
   "metadata": {},
   "outputs": [],
   "source": [
    "tmpp = [test_dum[\"previous_cancellations\"], test_dum[\"previous_bookings_not_canceled\"], \n",
    "       test_dum[\"booking_changes\"]]\n",
    "xcan_test = pd.concat(tmpp, axis = 1)"
   ]
  },
  {
   "cell_type": "code",
   "execution_count": 215,
   "metadata": {},
   "outputs": [],
   "source": [
    "#all_data\n",
    "ttt = df2_test.copy()\n",
    "del ttt[\"country\"]\n",
    "all_can_test =  pd.get_dummies(ttt)"
   ]
  },
  {
   "cell_type": "code",
   "execution_count": 219,
   "metadata": {},
   "outputs": [
    {
     "name": "stdout",
     "output_type": "stream",
     "text": [
      "{'market_segment_Undefined', 'adr', 'assigned_room_type_L', 'reserved_room_type_L', 'distribution_channel_Undefined'}\n",
      "set()\n"
     ]
    }
   ],
   "source": [
    "#print(all_can.columns)\n",
    "#print(all_can_test.columns)\n",
    "print(set(all_can.columns) - set(all_can_test.columns))\n",
    "print(set(all_can_test.columns) - set(all_can.columns))"
   ]
  },
  {
   "cell_type": "code",
   "execution_count": 220,
   "metadata": {},
   "outputs": [],
   "source": [
    "col_name = list(set(all_can.columns) - set(all_can_test.columns))\n",
    "for i in col_name:\n",
    "    del all_can[i]"
   ]
  },
  {
   "cell_type": "code",
   "execution_count": 222,
   "metadata": {},
   "outputs": [
    {
     "data": {
      "text/plain": [
       "XGBClassifier(base_score=0.5, booster='gbtree', colsample_bylevel=1,\n",
       "              colsample_bynode=1, colsample_bytree=1, eval_metric='error',\n",
       "              gamma=0, gpu_id=-1, importance_type='gain',\n",
       "              interaction_constraints='', learning_rate=0.1, max_delta_step=0,\n",
       "              max_depth=10, min_child_weight=1, missing=nan,\n",
       "              monotone_constraints='()', n_estimators=800, n_jobs=8,\n",
       "              num_parallel_tree=1, random_state=0, reg_alpha=0, reg_lambda=1,\n",
       "              scale_pos_weight=1, subsample=0.95, tree_method='exact',\n",
       "              validate_parameters=1, verbosity=None)"
      ]
     },
     "execution_count": 222,
     "metadata": {},
     "output_type": "execute_result"
    }
   ],
   "source": [
    "xgbc = XGBClassifier(booster=\"gbtree\",\n",
    "                     max_depth = best_d_can3,\n",
    "                     learning_rate=best_l_can3,\n",
    "                     n_estimators=best_n_can3,\n",
    "                     subsample = best_s_can3, \n",
    "                     objective='binary:logistic', \n",
    "                     eval_metric = 'error')\n",
    "xgbc.fit(all_can, can_y2)"
   ]
  },
  {
   "cell_type": "code",
   "execution_count": 223,
   "metadata": {},
   "outputs": [],
   "source": [
    "ypred_can = xgbc.predict(all_can_test)"
   ]
  },
  {
   "cell_type": "code",
   "execution_count": 224,
   "metadata": {},
   "outputs": [
    {
     "name": "stdout",
     "output_type": "stream",
     "text": [
      "8759\n"
     ]
    }
   ],
   "source": [
    "print(sum(ypred_can))"
   ]
  },
  {
   "cell_type": "code",
   "execution_count": 186,
   "metadata": {},
   "outputs": [
    {
     "data": {
      "text/plain": [
       "XGBClassifier(base_score=0.5, booster='gbtree', colsample_bylevel=1,\n",
       "              colsample_bynode=1, colsample_bytree=1, eval_metric='error',\n",
       "              gamma=0, gpu_id=-1, importance_type='gain',\n",
       "              interaction_constraints='', learning_rate=0.05, max_delta_step=0,\n",
       "              max_depth=5, min_child_weight=1, missing=nan,\n",
       "              monotone_constraints='()', n_estimators=200, n_jobs=8,\n",
       "              num_parallel_tree=1, random_state=0, reg_alpha=0, reg_lambda=1,\n",
       "              scale_pos_weight=1, subsample=0.85, tree_method='exact',\n",
       "              validate_parameters=1, verbosity=None)"
      ]
     },
     "execution_count": 186,
     "metadata": {},
     "output_type": "execute_result"
    }
   ],
   "source": [
    "xgbc = XGBClassifier(booster=\"gbtree\",\n",
    "                     max_depth = best_d_can,\n",
    "                     learning_rate=best_l_can,\n",
    "                     n_estimators=best_n_can,\n",
    "                     subsample = best_s_can, \n",
    "                     objective='binary:logistic', \n",
    "                     eval_metric = 'error')\n",
    "xgbc.fit(can_x, can_y)"
   ]
  },
  {
   "cell_type": "code",
   "execution_count": 187,
   "metadata": {},
   "outputs": [],
   "source": [
    "ypred_can = xgbc.predict(xcan_test)"
   ]
  },
  {
   "cell_type": "code",
   "execution_count": 188,
   "metadata": {},
   "outputs": [
    {
     "name": "stdout",
     "output_type": "stream",
     "text": [
      "4\n"
     ]
    }
   ],
   "source": [
    "print(sum(ypred_can))"
   ]
  },
  {
   "cell_type": "code",
   "execution_count": 130,
   "metadata": {},
   "outputs": [],
   "source": [
    "logr = LogisticRegression(C = 1/LR_a)\n",
    "logr.fit(can_x, can_y)\n",
    "ypred_can = logr.predict(xcan_test)"
   ]
  },
  {
   "cell_type": "code",
   "execution_count": 142,
   "metadata": {},
   "outputs": [
    {
     "name": "stdout",
     "output_type": "stream",
     "text": [
      "Index(['lead_time', 'arrival_date_week_number', 'stays_in_weekend_nights',\n",
      "       'stays_in_week_nights', 'adults', 'children', 'babies',\n",
      "       'is_repeated_guest', 'previous_cancellations',\n",
      "       'previous_bookings_not_canceled',\n",
      "       ...\n",
      "       'assigned_room_type_I', 'assigned_room_type_K', 'assigned_room_type_P',\n",
      "       'deposit_type_No Deposit', 'deposit_type_Non Refund',\n",
      "       'deposit_type_Refundable', 'customer_type_Contract',\n",
      "       'customer_type_Group', 'customer_type_Transient',\n",
      "       'customer_type_Transient-Party'],\n",
      "      dtype='object', length=187)\n",
      "Index(['lead_time', 'arrival_date_week_number', 'stays_in_weekend_nights',\n",
      "       'stays_in_week_nights', 'adults', 'children', 'babies',\n",
      "       'is_repeated_guest', 'previous_cancellations',\n",
      "       'previous_bookings_not_canceled',\n",
      "       ...\n",
      "       'assigned_room_type_I', 'assigned_room_type_K', 'assigned_room_type_P',\n",
      "       'deposit_type_No Deposit', 'deposit_type_Non Refund',\n",
      "       'deposit_type_Refundable', 'customer_type_Contract',\n",
      "       'customer_type_Group', 'customer_type_Transient',\n",
      "       'customer_type_Transient-Party'],\n",
      "      dtype='object', length=201)\n",
      "set()\n",
      "{'country_MYT', 'country_LAO', 'country_ATF', 'country_DJI', 'country_BHS', 'country_NPL', 'country_NCL', 'country_KIR', 'country_MRT', 'country_FRO', 'country_SLE', 'country_UMI', 'country_FJI', 'country_SDN'}\n"
     ]
    }
   ],
   "source": [
    "print(adr_x.columns)\n",
    "print(test_dum.columns)\n",
    "print(set(adr_x.columns) - set(test_dum.columns))\n",
    "print(set(test_dum.columns) - set(adr_x.columns))"
   ]
  },
  {
   "cell_type": "code",
   "execution_count": 139,
   "metadata": {},
   "outputs": [],
   "source": [
    "col_name = list(set(adr_x.columns) - set(test_dum.columns))\n",
    "for i in col_name:\n",
    "    del adr_x[i]"
   ]
  },
  {
   "cell_type": "code",
   "execution_count": 144,
   "metadata": {},
   "outputs": [],
   "source": [
    "col_name2 = list(set(test_dum.columns) - set(adr_x.columns))\n",
    "for i in col_name2:\n",
    "    del test_dum[i]"
   ]
  },
  {
   "cell_type": "code",
   "execution_count": 145,
   "metadata": {},
   "outputs": [
    {
     "name": "stdout",
     "output_type": "stream",
     "text": [
      "187\n",
      "187\n"
     ]
    }
   ],
   "source": [
    "print(len(adr_x.columns))\n",
    "print(len(test_dum.columns))"
   ]
  },
  {
   "cell_type": "code",
   "execution_count": 146,
   "metadata": {},
   "outputs": [
    {
     "data": {
      "text/plain": [
       "XGBRegressor(base_score=0.5, booster='gbtree', colsample_bylevel=1,\n",
       "             colsample_bynode=1, colsample_bytree=1, gamma=0, gpu_id=-1,\n",
       "             importance_type='gain', interaction_constraints='',\n",
       "             learning_rate=0.05, max_delta_step=0, max_depth=10,\n",
       "             min_child_weight=1, missing=nan, monotone_constraints='()',\n",
       "             n_estimators=1000, n_jobs=8, num_parallel_tree=1, random_state=0,\n",
       "             reg_alpha=0, reg_lambda=1, scale_pos_weight=1, subsample=0.85,\n",
       "             tree_method='exact', validate_parameters=1, verbosity=None)"
      ]
     },
     "execution_count": 146,
     "metadata": {},
     "output_type": "execute_result"
    }
   ],
   "source": [
    "xgbr = XGBRegressor(booster=\"gbtree\",\n",
    "                     max_depth = best_d,\n",
    "                     learning_rate = best_l,\n",
    "                     n_estimators = best_n,\n",
    "                     subsample = best_s)\n",
    "xgbr.fit(adr_x, adr_y)"
   ]
  },
  {
   "cell_type": "code",
   "execution_count": 197,
   "metadata": {},
   "outputs": [
    {
     "data": {
      "text/plain": [
       "array([6.6369530e-03, 1.3774150e-02, 5.5761249e-03, 5.8152066e-03,\n",
       "       1.0956683e-02, 3.1506836e-02, 1.3777667e-03, 7.4532647e-03,\n",
       "       2.8616660e-03, 1.8199550e-03, 6.7326762e-03, 9.5004132e-03,\n",
       "       3.5285717e-03, 3.0037332e-03, 2.1850795e-03, 1.1284124e-03,\n",
       "       9.0974964e-02, 0.0000000e+00, 1.2518783e-02, 5.1688873e-03,\n",
       "       2.3670707e-02, 9.0216063e-03, 4.8934165e-03, 0.0000000e+00,\n",
       "       1.0334532e-03, 6.9711015e-05, 2.2506583e-03, 9.5024059e-04,\n",
       "       4.1521087e-04, 1.0264964e-03, 9.1743201e-04, 5.2519585e-04,\n",
       "       2.0106696e-03, 0.0000000e+00, 1.8946000e-04, 5.7968678e-04,\n",
       "       0.0000000e+00, 2.9651821e-04, 4.2553974e-04, 1.1271430e-03,\n",
       "       2.5038737e-05, 9.3667296e-04, 1.0507972e-03, 2.0231048e-03,\n",
       "       1.2520504e-03, 3.6923922e-04, 1.0733109e-03, 7.1446830e-04,\n",
       "       3.6729802e-04, 3.3613603e-04, 4.4554088e-04, 2.1954556e-03,\n",
       "       3.0681456e-04, 1.2097117e-03, 1.3870059e-03, 1.0077368e-03,\n",
       "       2.8511899e-04, 8.3202252e-04, 3.7468495e-04, 2.4051864e-03,\n",
       "       1.6114615e-03, 7.1859354e-04, 2.6043030e-04, 1.1114907e-03,\n",
       "       1.1954645e-03, 2.0863248e-04, 1.1536763e-03, 2.7649326e-04,\n",
       "       4.2373120e-04, 4.9851171e-04, 1.9066629e-03, 8.3133392e-04,\n",
       "       4.0348647e-03, 5.4413051e-04, 9.0752175e-04, 6.4522756e-04,\n",
       "       0.0000000e+00, 8.5078174e-04, 1.0996279e-03, 6.5882812e-04,\n",
       "       1.8297156e-04, 9.8177930e-04, 1.2675944e-03, 1.1346221e-03,\n",
       "       2.6492853e-04, 6.6242175e-04, 1.5097646e-04, 8.4474945e-04,\n",
       "       5.7104364e-04, 5.1654937e-05, 0.0000000e+00, 7.2418910e-04,\n",
       "       9.9861796e-04, 2.9290147e-04, 2.8454550e-04, 2.0091544e-04,\n",
       "       6.6332275e-04, 8.6519856e-04, 1.1247499e-03, 1.5543097e-04,\n",
       "       8.7173918e-04, 2.3926576e-04, 5.7770277e-04, 5.7540153e-04,\n",
       "       2.8469524e-04, 6.0970359e-04, 5.1659491e-04, 8.0609252e-04,\n",
       "       1.0363435e-03, 8.6936867e-04, 4.6671220e-04, 5.6208041e-04,\n",
       "       2.5256866e-04, 4.8762461e-04, 8.6423033e-04, 3.2822430e-04,\n",
       "       9.2260673e-04, 7.3462748e-04, 2.3281716e-03, 2.3069490e-04,\n",
       "       2.7300848e-04, 8.2520326e-04, 1.5222263e-03, 9.9553389e-04,\n",
       "       4.0152547e-04, 1.0719443e-03, 0.0000000e+00, 1.0311722e-03,\n",
       "       0.0000000e+00, 0.0000000e+00, 1.0818759e-03, 1.4638072e-03,\n",
       "       1.0938159e-03, 0.0000000e+00, 2.1567487e-04, 0.0000000e+00,\n",
       "       1.1332401e-03, 5.1162665e-04, 7.0154492e-04, 1.6276155e-03,\n",
       "       5.9180660e-04, 1.0567670e-03, 5.5796962e-04, 1.3668836e-03,\n",
       "       0.0000000e+00, 3.1151267e-04, 2.3502221e-04, 3.6486724e-04,\n",
       "       0.0000000e+00, 8.6261594e-04, 4.8130821e-02, 2.9023290e-03,\n",
       "       5.6989245e-02, 1.3195473e-02, 1.3151144e-02, 1.2571748e-01,\n",
       "       2.9545831e-03, 1.3498976e-02, 5.9550591e-03, 2.5943709e-03,\n",
       "       5.1745139e-02, 1.8198721e-02, 3.3205366e-03, 5.0171060e-03,\n",
       "       3.2620726e-03, 2.7055608e-02, 1.2308519e-02, 6.0193506e-03,\n",
       "       0.0000000e+00, 1.1650533e-03, 2.3595414e-03, 1.6917849e-03,\n",
       "       1.5276287e-03, 1.6564706e-03, 2.5985735e-03, 1.2800005e-02,\n",
       "       8.9631323e-03, 1.3197279e-02, 5.7843714e-03, 0.0000000e+00,\n",
       "       1.4591478e-01, 2.4367770e-02, 4.3381273e-04, 3.4093461e-03,\n",
       "       2.1455034e-03, 2.9874833e-03, 3.2385441e-03], dtype=float32)"
      ]
     },
     "execution_count": 197,
     "metadata": {},
     "output_type": "execute_result"
    }
   ],
   "source": [
    "xgbr.feature_importances_"
   ]
  },
  {
   "cell_type": "code",
   "execution_count": 199,
   "metadata": {},
   "outputs": [],
   "source": [
    "feature_name = []\n",
    "for col,score in zip(adr_x.columns, xgbr.feature_importances_):\n",
    "    feature_name.append((col,score))\n",
    "sorted_coef = sorted(feature_name, key=lambda x: abs(x[1]), reverse = True)"
   ]
  },
  {
   "cell_type": "code",
   "execution_count": 201,
   "metadata": {},
   "outputs": [
    {
     "name": "stdout",
     "output_type": "stream",
     "text": [
      "[('deposit_type_No Deposit', 0.14591478), ('market_segment_Online TA', 0.12571748), ('hotel_City Hotel', 0.090974964), ('market_segment_Direct', 0.056989245), ('reserved_room_type_A', 0.05174514), ('market_segment_Complementary', 0.04813082), ('children', 0.031506836), ('reserved_room_type_F', 0.027055608), ('deposit_type_Non Refund', 0.02436777), ('meal_HB', 0.023670707), ('reserved_room_type_B', 0.018198721), ('arrival_date_week_number', 0.01377415), ('distribution_channel_Direct', 0.013498976), ('assigned_room_type_I', 0.013197279), ('market_segment_Groups', 0.013195473), ('market_segment_Offline TA/TO', 0.013151144), ('assigned_room_type_G', 0.012800005), ('meal_BB', 0.012518783), ('reserved_room_type_G', 0.012308519), ('adults', 0.010956683)]\n"
     ]
    }
   ],
   "source": [
    "print(sorted_coef[:20])"
   ]
  },
  {
   "cell_type": "code",
   "execution_count": 203,
   "metadata": {},
   "outputs": [
    {
     "name": "stdout",
     "output_type": "stream",
     "text": [
      "[('deposit_type_No Deposit', 0.14591478), ('market_segment_Online TA', 0.12571748), ('hotel_City Hotel', 0.090974964), ('market_segment_Direct', 0.056989245), ('reserved_room_type_A', 0.05174514), ('market_segment_Complementary', 0.04813082), ('children', 0.031506836), ('reserved_room_type_F', 0.027055608), ('deposit_type_Non Refund', 0.02436777), ('meal_HB', 0.023670707), ('reserved_room_type_B', 0.018198721), ('arrival_date_week_number', 0.01377415), ('distribution_channel_Direct', 0.013498976), ('assigned_room_type_I', 0.013197279), ('market_segment_Groups', 0.013195473), ('market_segment_Offline TA/TO', 0.013151144), ('assigned_room_type_G', 0.012800005), ('meal_BB', 0.012518783), ('reserved_room_type_G', 0.012308519), ('adults', 0.010956683), ('agent', 0.009500413), ('meal_SC', 0.009021606), ('assigned_room_type_H', 0.008963132), ('is_repeated_guest', 0.0074532647), ('booking_changes', 0.006732676), ('lead_time', 0.006636953), ('reserved_room_type_H', 0.0060193506), ('distribution_channel_GDS', 0.005955059), ('stays_in_week_nights', 0.0058152066), ('assigned_room_type_K', 0.0057843714), ('stays_in_weekend_nights', 0.005576125), ('meal_FB', 0.0051688873), ('reserved_room_type_D', 0.005017106), ('meal_Undefined', 0.0048934165), ('country_HKG', 0.0040348647), ('company', 0.0035285717), ('customer_type_Contract', 0.003409346), ('reserved_room_type_C', 0.0033205366), ('reserved_room_type_E', 0.0032620726), ('customer_type_Transient-Party', 0.003238544), ('days_in_waiting_list', 0.0030037332), ('customer_type_Transient', 0.0029874833), ('distribution_channel_Corporate', 0.0029545831), ('market_segment_Corporate', 0.002902329), ('previous_cancellations', 0.002861666), ('assigned_room_type_F', 0.0025985735), ('distribution_channel_TA/TO', 0.0025943709), ('country_EGY', 0.0024051864), ('assigned_room_type_B', 0.0023595414), ('country_PRT', 0.0023281716), ('country_ARE', 0.0022506583), ('country_CUB', 0.0021954556), ('required_car_parking_spaces', 0.0021850795), ('customer_type_Group', 0.0021455034), ('country_CHN', 0.0020231048), ('country_BEL', 0.0020106696), ('country_GRC', 0.001906663), ('previous_bookings_not_canceled', 0.001819955), ('assigned_room_type_C', 0.001691785), ('assigned_room_type_E', 0.0016564706), ('country_TUR', 0.0016276155), ('country_ESP', 0.0016114615), ('assigned_room_type_D', 0.0015276287), ('country_RUS', 0.0015222263), ('country_SVN', 0.0014638072), ('country_DEU', 0.0013870059), ('babies', 0.0013777667), ('country_USA', 0.0013668836), ('country_ISR', 0.0012675944), ('country_CIV', 0.0012520504), ('country_CZE', 0.0012097117), ('country_FRA', 0.0011954645), ('assigned_room_type_A', 0.0011650533), ('country_GBR', 0.0011536763), ('country_ITA', 0.0011346221), ('country_THA', 0.0011332401), ('total_of_special_requests', 0.0011284124), ('country_BRA', 0.001127143), ('country_LVA', 0.0011247499), ('country_FIN', 0.0011114907), ('country_IRL', 0.0010996279), ('country_SWE', 0.0010938159), ('country_SVK', 0.0010818759), ('country_CN', 0.0010733109), ('country_SGP', 0.0010719443), ('country_UKR', 0.001056767), ('country_CHL', 0.0010507972), ('country_NLD', 0.0010363435), ('country_AGO', 0.0010334532), ('country_SRB', 0.0010311722), ('country_AUS', 0.0010264964), ('country_DNK', 0.0010077368), ('country_KWT', 0.000998618), ('country_SAU', 0.0009955339), ('country_ISL', 0.0009817793), ('country_ARG', 0.0009502406), ('country_CHE', 0.00093667296), ('country_POL', 0.00092260673), ('country_AUT', 0.000917432), ('country_HUN', 0.00090752175), ('country_MAR', 0.0008717392), ('country_NOR', 0.00086936867), ('country_LUX', 0.00086519856), ('country_PER', 0.00086423033), ('market_segment_Aviation', 0.00086261594), ('country_IND', 0.00085078174), ('country_JPN', 0.00084474945), ('country_DZA', 0.0008320225), ('country_GTM', 0.0008313339), ('country_ROU', 0.00082520326), ('country_NGA', 0.0008060925), ('country_PRI', 0.0007346275), ('country_KOR', 0.0007241891), ('country_EST', 0.00071859354), ('country_COL', 0.0007144683), ('country_TUN', 0.0007015449), ('country_LTU', 0.00066332275), ('country_JEY', 0.00066242175), ('country_IRN', 0.0006588281), ('country_IDN', 0.00064522756), ('country_MOZ', 0.0006097036), ('country_TWN', 0.0005918066), ('country_BGR', 0.0005796868), ('country_MEX', 0.00057770277), ('country_MLT', 0.00057540153), ('country_KAZ', 0.00057104364), ('country_OMN', 0.0005620804), ('country_URY', 0.0005579696), ('country_HRV', 0.0005441305), ('country_AZE', 0.00052519585), ('country_MYS', 0.0005165949), ('country_TJK', 0.00051162665), ('country_GIB', 0.0004985117), ('country_PAN', 0.0004876246), ('country_NZL', 0.0004667122), ('country_CRI', 0.00044554088), ('deposit_type_Refundable', 0.00043381273), ('country_BLR', 0.00042553974), ('country_GHA', 0.0004237312), ('country_ARM', 0.00041521087), ('country_SEN', 0.00040152547), ('country_ECU', 0.00037468495), ('country_CMR', 0.00036923922), ('country_COM', 0.00036729802), ('country_ZAF', 0.00036486724), ('country_CPV', 0.00033613603), ('country_PHL', 0.0003282243), ('country_VEN', 0.00031151267), ('country_CYP', 0.00030681456), ('country_BIH', 0.0002965182), ('country_LBN', 0.00029290147), ('country_DOM', 0.000285119), ('country_MNE', 0.00028469524), ('country_LBY', 0.0002845455), ('country_GEO', 0.00027649326), ('country_QAT', 0.00027300848), ('country_JAM', 0.00026492853), ('country_ETH', 0.0002604303), ('country_PAK', 0.00025256866), ('country_MDV', 0.00023926576), ('country_VNM', 0.0002350222), ('country_PRY', 0.0002306949), ('country_SYR', 0.00021567487), ('country_GAB', 0.00020863248), ('country_LKA', 0.00020091544), ('country_BGD', 0.00018946), ('country_IRQ', 0.00018297156), ('country_MAC', 0.00015543097), ('country_JOR', 0.00015097646), ('country_AND', 6.9711015e-05), ('country_KEN', 5.1654937e-05), ('country_CAF', 2.5038737e-05), ('hotel_Resort Hotel', 0.0), ('country_ABW', 0.0), ('country_BEN', 0.0), ('country_BHR', 0.0), ('country_IMN', 0.0), ('country_KNA', 0.0), ('country_SLV', 0.0), ('country_STP', 0.0), ('country_SUR', 0.0), ('country_SYC', 0.0), ('country_TGO', 0.0), ('country_UZB', 0.0), ('country_ZWE', 0.0), ('reserved_room_type_P', 0.0), ('assigned_room_type_P', 0.0)]\n"
     ]
    }
   ],
   "source": [
    "print(sorted_coef)"
   ]
  },
  {
   "cell_type": "code",
   "execution_count": 147,
   "metadata": {},
   "outputs": [],
   "source": [
    "ypred_adr = xgbr.predict(test_dum)"
   ]
  },
  {
   "cell_type": "code",
   "execution_count": 149,
   "metadata": {},
   "outputs": [
    {
     "name": "stdout",
     "output_type": "stream",
     "text": [
      "<class 'numpy.ndarray'>\n"
     ]
    }
   ],
   "source": [
    "print(type(ypred_adr))"
   ]
  },
  {
   "cell_type": "code",
   "execution_count": 225,
   "metadata": {},
   "outputs": [
    {
     "name": "stdout",
     "output_type": "stream",
     "text": [
      "          arrDate          rev\n",
      "0      2017-04-01   683.343918\n",
      "1      2017-04-01     0.000000\n",
      "2      2017-04-01   477.992889\n",
      "3      2017-04-01   903.617264\n",
      "4      2017-04-01     0.000000\n",
      "...           ...          ...\n",
      "27854  2017-08-31  1025.745667\n",
      "27855  2017-08-31  1773.361389\n",
      "27856  2017-08-31   621.153717\n",
      "27857  2017-08-31   658.189537\n",
      "27858  2017-08-31    95.569763\n",
      "\n",
      "[27859 rows x 2 columns]\n"
     ]
    }
   ],
   "source": [
    "op_test = [1]*test.shape[0]\n",
    "s_test = ypred_adr*(op_test - ypred_can)*(test[\"stays_in_weekend_nights\"] + test[\"stays_in_week_nights\"])\n",
    "arr_df_test = pd.DataFrame(arr_date_test)\n",
    "cat_test = pd.concat([arr_df_test, s_test], axis = 1)\n",
    "cat_test.columns = [\"arrDate\", \"rev\"]\n",
    "print(cat_test)"
   ]
  },
  {
   "cell_type": "code",
   "execution_count": 151,
   "metadata": {},
   "outputs": [],
   "source": [
    "test_nl = pd.read_csv(\"test_nolabel.csv\")"
   ]
  },
  {
   "cell_type": "code",
   "execution_count": 152,
   "metadata": {},
   "outputs": [
    {
     "name": "stdout",
     "output_type": "stream",
     "text": [
      "153\n",
      "153\n"
     ]
    }
   ],
   "source": [
    "uni_date_test = unique(arr_date_test)\n",
    "print(len(uni_date_test))\n",
    "print(len(test_nl))"
   ]
  },
  {
   "cell_type": "code",
   "execution_count": 226,
   "metadata": {},
   "outputs": [],
   "source": [
    "blank_test = [0]*len(uni_date_test)\n",
    "#sum up\n",
    "for i in range(cat_test.shape[0]):\n",
    "    for j in range(len(uni_date_test)):\n",
    "        if cat_test[\"arrDate\"][i] == uni_date_test[j]:\n",
    "            blank_test[j] += cat_test[\"rev\"][i]\n",
    "            break"
   ]
  },
  {
   "cell_type": "code",
   "execution_count": 227,
   "metadata": {},
   "outputs": [],
   "source": [
    "dtrain = xgb.DMatrix(xcl.to_numpy().reshape(-1,1), label=ycl)\n",
    "dtest = xgb.DMatrix(np.array(blank_test).reshape(-1,1))"
   ]
  },
  {
   "cell_type": "code",
   "execution_count": 228,
   "metadata": {},
   "outputs": [],
   "source": [
    "param = {'max_depth':best_d_cl, 'eta':1, 'objective':'multi:softmax', 'num_class':10, \n",
    "         'learning_rate':best_l_cl, 'subsample':best_s_cl, 'booster':\"gbtree\", 'eval_metric':'mlogloss'}\n",
    "num_round = best_n_cl\n",
    "bst = xgb.train(param, dtrain, num_round)"
   ]
  },
  {
   "cell_type": "code",
   "execution_count": 229,
   "metadata": {},
   "outputs": [],
   "source": [
    "ypred_cl = bst.predict(dtest)"
   ]
  },
  {
   "cell_type": "code",
   "execution_count": 230,
   "metadata": {},
   "outputs": [
    {
     "name": "stdout",
     "output_type": "stream",
     "text": [
      "[3. 2. 3. 1. 3. 2. 1. 4. 4. 3. 3. 2. 4. 3. 3. 4. 3. 1. 3. 2. 3. 3. 3. 3.\n",
      " 1. 1. 2. 5. 6. 3. 4. 3. 2. 3. 4. 3. 3. 5. 3. 2. 4. 3. 3. 4. 3. 2. 2. 3.\n",
      " 3. 4. 4. 4. 2. 3. 4. 3. 2. 5. 3. 2. 2. 3. 4. 3. 4. 5. 3. 2. 4. 3. 4. 6.\n",
      " 4. 2. 3. 4. 3. 4. 4. 4. 3. 3. 3. 3. 3. 4. 4. 3. 3. 2. 3. 5. 3. 4. 3. 2.\n",
      " 3. 3. 4. 6. 5. 4. 3. 4. 4. 8. 6. 9. 4. 3. 4. 4. 6. 6. 9. 4. 4. 4. 5. 6.\n",
      " 6. 6. 5. 5. 6. 5. 5. 9. 8. 4. 4. 5. 4. 9. 6. 6. 5. 6. 9. 6. 6. 6. 6. 3.\n",
      " 5. 5. 4. 9. 5. 6. 3. 2. 4.]\n"
     ]
    }
   ],
   "source": [
    "print(ypred_cl)"
   ]
  },
  {
   "cell_type": "code",
   "execution_count": 196,
   "metadata": {},
   "outputs": [
    {
     "name": "stdout",
     "output_type": "stream",
     "text": [
      "[4. 3. 5. 3. 4. 5. 3. 6. 8. 5. 3. 3. 6. 5. 6. 6. 5. 2. 4. 3. 6. 6. 5. 4.\n",
      " 2. 6. 4. 6. 8. 4. 6. 4. 4. 6. 6. 6. 4. 6. 4. 4. 5. 4. 6. 5. 8. 4. 4. 5.\n",
      " 9. 9. 5. 5. 3. 5. 6. 4. 4. 8. 4. 5. 3. 5. 6. 6. 5. 6. 3. 3. 8. 6. 5. 8.\n",
      " 6. 3. 4. 6. 5. 8. 5. 9. 5. 5. 5. 5. 6. 5. 6. 6. 5. 4. 5. 9. 5. 8. 5. 4.\n",
      " 5. 4. 5. 9. 9. 6. 5. 5. 6. 8. 9. 8. 5. 3. 5. 6. 8. 8. 8. 5. 6. 6. 6. 8.\n",
      " 9. 8. 8. 6. 8. 6. 8. 8. 8. 6. 6. 6. 6. 8. 8. 8. 6. 8. 8. 8. 8. 8. 8. 4.\n",
      " 6. 6. 6. 8. 9. 8. 5. 4. 5.]\n"
     ]
    }
   ],
   "source": [
    "print(ypred_cl)"
   ]
  },
  {
   "cell_type": "code",
   "execution_count": 167,
   "metadata": {},
   "outputs": [
    {
     "name": "stdout",
     "output_type": "stream",
     "text": [
      "[4. 3. 5. 3. 4. 5. 3. 6. 8. 5. 3. 3. 6. 5. 6. 6. 5. 2. 4. 3. 6. 6. 5. 4.\n",
      " 2. 6. 4. 6. 8. 4. 6. 4. 4. 6. 6. 6. 4. 6. 4. 4. 5. 4. 6. 5. 8. 4. 4. 5.\n",
      " 9. 9. 5. 5. 3. 5. 6. 4. 4. 8. 4. 5. 3. 5. 6. 6. 5. 6. 3. 3. 8. 6. 5. 8.\n",
      " 6. 3. 4. 6. 5. 8. 5. 9. 5. 5. 5. 5. 6. 5. 6. 6. 5. 4. 5. 9. 5. 8. 5. 4.\n",
      " 5. 4. 5. 9. 9. 6. 5. 5. 6. 8. 9. 8. 5. 3. 5. 6. 8. 8. 8. 5. 6. 6. 6. 8.\n",
      " 9. 8. 8. 6. 8. 6. 8. 8. 8. 6. 6. 6. 6. 8. 8. 8. 6. 8. 8. 8. 8. 8. 8. 4.\n",
      " 6. 6. 6. 8. 9. 8. 5. 4. 5.]\n"
     ]
    }
   ],
   "source": [
    "print(ypred_cl)"
   ]
  },
  {
   "cell_type": "code",
   "execution_count": 231,
   "metadata": {},
   "outputs": [],
   "source": [
    "ypred_df = pd.DataFrame(ypred_cl)\n",
    "date_df = pd.DataFrame(uni_date_test)\n",
    "final = pd.concat([date_df, ypred_df], axis = 1)\n",
    "final.columns = [\"arrival_date\", \"label\"]"
   ]
  },
  {
   "cell_type": "code",
   "execution_count": 232,
   "metadata": {},
   "outputs": [
    {
     "data": {
      "text/html": [
       "<div>\n",
       "<style scoped>\n",
       "    .dataframe tbody tr th:only-of-type {\n",
       "        vertical-align: middle;\n",
       "    }\n",
       "\n",
       "    .dataframe tbody tr th {\n",
       "        vertical-align: top;\n",
       "    }\n",
       "\n",
       "    .dataframe thead th {\n",
       "        text-align: right;\n",
       "    }\n",
       "</style>\n",
       "<table border=\"1\" class=\"dataframe\">\n",
       "  <thead>\n",
       "    <tr style=\"text-align: right;\">\n",
       "      <th></th>\n",
       "      <th>arrival_date</th>\n",
       "      <th>label</th>\n",
       "    </tr>\n",
       "  </thead>\n",
       "  <tbody>\n",
       "    <tr>\n",
       "      <th>0</th>\n",
       "      <td>2017-04-01</td>\n",
       "      <td>3.0</td>\n",
       "    </tr>\n",
       "    <tr>\n",
       "      <th>1</th>\n",
       "      <td>2017-04-02</td>\n",
       "      <td>2.0</td>\n",
       "    </tr>\n",
       "    <tr>\n",
       "      <th>2</th>\n",
       "      <td>2017-04-03</td>\n",
       "      <td>3.0</td>\n",
       "    </tr>\n",
       "    <tr>\n",
       "      <th>3</th>\n",
       "      <td>2017-04-04</td>\n",
       "      <td>1.0</td>\n",
       "    </tr>\n",
       "    <tr>\n",
       "      <th>4</th>\n",
       "      <td>2017-04-05</td>\n",
       "      <td>3.0</td>\n",
       "    </tr>\n",
       "    <tr>\n",
       "      <th>...</th>\n",
       "      <td>...</td>\n",
       "      <td>...</td>\n",
       "    </tr>\n",
       "    <tr>\n",
       "      <th>148</th>\n",
       "      <td>2017-08-27</td>\n",
       "      <td>5.0</td>\n",
       "    </tr>\n",
       "    <tr>\n",
       "      <th>149</th>\n",
       "      <td>2017-08-28</td>\n",
       "      <td>6.0</td>\n",
       "    </tr>\n",
       "    <tr>\n",
       "      <th>150</th>\n",
       "      <td>2017-08-29</td>\n",
       "      <td>3.0</td>\n",
       "    </tr>\n",
       "    <tr>\n",
       "      <th>151</th>\n",
       "      <td>2017-08-30</td>\n",
       "      <td>2.0</td>\n",
       "    </tr>\n",
       "    <tr>\n",
       "      <th>152</th>\n",
       "      <td>2017-08-31</td>\n",
       "      <td>4.0</td>\n",
       "    </tr>\n",
       "  </tbody>\n",
       "</table>\n",
       "<p>153 rows × 2 columns</p>\n",
       "</div>"
      ],
      "text/plain": [
       "    arrival_date  label\n",
       "0     2017-04-01    3.0\n",
       "1     2017-04-02    2.0\n",
       "2     2017-04-03    3.0\n",
       "3     2017-04-04    1.0\n",
       "4     2017-04-05    3.0\n",
       "..           ...    ...\n",
       "148   2017-08-27    5.0\n",
       "149   2017-08-28    6.0\n",
       "150   2017-08-29    3.0\n",
       "151   2017-08-30    2.0\n",
       "152   2017-08-31    4.0\n",
       "\n",
       "[153 rows x 2 columns]"
      ]
     },
     "metadata": {},
     "output_type": "display_data"
    }
   ],
   "source": [
    "display(final)"
   ]
  },
  {
   "cell_type": "code",
   "execution_count": 233,
   "metadata": {},
   "outputs": [],
   "source": [
    "final.to_csv(\"test_label.csv\", index = False, header = True)"
   ]
  },
  {
   "cell_type": "code",
   "execution_count": null,
   "metadata": {},
   "outputs": [],
   "source": []
  }
 ],
 "metadata": {
  "kernelspec": {
   "display_name": "Python 3",
   "language": "python",
   "name": "python3"
  },
  "language_info": {
   "codemirror_mode": {
    "name": "ipython",
    "version": 3
   },
   "file_extension": ".py",
   "mimetype": "text/x-python",
   "name": "python",
   "nbconvert_exporter": "python",
   "pygments_lexer": "ipython3",
   "version": "3.7.6"
  }
 },
 "nbformat": 4,
 "nbformat_minor": 4
}
