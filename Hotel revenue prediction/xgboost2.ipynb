{
 "cells": [
  {
   "cell_type": "code",
   "execution_count": 1,
   "metadata": {},
   "outputs": [],
   "source": [
    "import csv\n",
    "import numpy as np\n",
    "import pandas as pd\n",
    "from sklearn.model_selection import train_test_split\n",
    "from sklearn.linear_model import LogisticRegression\n",
    "from sklearn.metrics import accuracy_score\n",
    "from sklearn.metrics import recall_score\n",
    "from sklearn.metrics import f1_score\n",
    "from sklearn.metrics import precision_score\n",
    "from sklearn.metrics import precision_score\n",
    "from xgboost.sklearn import XGBRegressor\n",
    "from xgboost.sklearn import XGBClassifier\n",
    "import xgboost as xgb"
   ]
  },
  {
   "cell_type": "code",
   "execution_count": 2,
   "metadata": {},
   "outputs": [],
   "source": [
    "train = pd.read_csv(\"train.csv\")\n",
    "train_l = pd.read_csv(\"train_label.csv\")\n",
    "test = pd.read_csv(\"test.csv\")"
   ]
  },
  {
   "cell_type": "code",
   "execution_count": 3,
   "metadata": {},
   "outputs": [
    {
     "name": "stdout",
     "output_type": "stream",
     "text": [
      "(91531, 33)\n",
      "(640, 2)\n",
      "(27859, 29)\n"
     ]
    }
   ],
   "source": [
    "print(train.shape)\n",
    "print(train_l.shape)\n",
    "print(test.shape)"
   ]
  },
  {
   "cell_type": "code",
   "execution_count": 4,
   "metadata": {},
   "outputs": [],
   "source": [
    "#is_canceled', 'reservation_status_date', 'adr', 'reservation_status'\n",
    "df = train.copy()\n",
    "del df[\"is_canceled\"]\n",
    "del df[\"reservation_status_date\"]\n",
    "del df[\"adr\"]\n",
    "del df[\"reservation_status\"]"
   ]
  },
  {
   "cell_type": "code",
   "execution_count": 5,
   "metadata": {},
   "outputs": [
    {
     "name": "stdout",
     "output_type": "stream",
     "text": [
      "(91531, 29)\n"
     ]
    }
   ],
   "source": [
    "print(df.shape)"
   ]
  },
  {
   "cell_type": "code",
   "execution_count": 6,
   "metadata": {},
   "outputs": [],
   "source": [
    "for_dum = pd.concat([df, test], ignore_index=True)"
   ]
  },
  {
   "cell_type": "code",
   "execution_count": 7,
   "metadata": {},
   "outputs": [
    {
     "name": "stdout",
     "output_type": "stream",
     "text": [
      "(119390, 29)\n"
     ]
    }
   ],
   "source": [
    "print(for_dum.shape)"
   ]
  },
  {
   "cell_type": "code",
   "execution_count": 8,
   "metadata": {},
   "outputs": [],
   "source": [
    "df2 = for_dum.copy()\n",
    "del df2[\"arrival_date_year\"]\n",
    "del df2[\"arrival_date_week_number\"]\n",
    "del df2[\"arrival_date_day_of_month\"]"
   ]
  },
  {
   "cell_type": "code",
   "execution_count": 9,
   "metadata": {},
   "outputs": [],
   "source": [
    "del df2[\"ID\"]"
   ]
  },
  {
   "cell_type": "code",
   "execution_count": 10,
   "metadata": {},
   "outputs": [
    {
     "name": "stdout",
     "output_type": "stream",
     "text": [
      "Index(['hotel', 'lead_time', 'arrival_date_month', 'stays_in_weekend_nights',\n",
      "       'stays_in_week_nights', 'adults', 'children', 'babies', 'meal',\n",
      "       'country', 'market_segment', 'distribution_channel',\n",
      "       'is_repeated_guest', 'previous_cancellations',\n",
      "       'previous_bookings_not_canceled', 'reserved_room_type',\n",
      "       'assigned_room_type', 'booking_changes', 'deposit_type', 'agent',\n",
      "       'company', 'days_in_waiting_list', 'customer_type',\n",
      "       'required_car_parking_spaces', 'total_of_special_requests'],\n",
      "      dtype='object')\n"
     ]
    }
   ],
   "source": [
    "print(df2.columns)"
   ]
  },
  {
   "cell_type": "code",
   "execution_count": 11,
   "metadata": {},
   "outputs": [],
   "source": [
    "def change_date(df):\n",
    "    date = []\n",
    "    for i in range(df.shape[0]):\n",
    "        day = str(df[\"arrival_date_day_of_month\"][i])\n",
    "        if df[\"arrival_date_day_of_month\"][i] < 10:\n",
    "            day = \"0\" + day\n",
    "        if df[\"arrival_date_month\"][i] == \"January\":\n",
    "            s = str(df[\"arrival_date_year\"][i]) + \"-01-\" + day\n",
    "        elif df[\"arrival_date_month\"][i] == \"February\":\n",
    "            s = str(df[\"arrival_date_year\"][i]) + \"-02-\" + day\n",
    "        elif df[\"arrival_date_month\"][i] == \"March\":\n",
    "            s = str(df[\"arrival_date_year\"][i]) + \"-03-\" + day\n",
    "        elif df[\"arrival_date_month\"][i] == \"April\":\n",
    "            s = str(df[\"arrival_date_year\"][i]) + \"-04-\" + day\n",
    "        elif df[\"arrival_date_month\"][i] == \"May\":\n",
    "            s = str(df[\"arrival_date_year\"][i]) + \"-05-\" + day\n",
    "        elif df[\"arrival_date_month\"][i] == \"June\":\n",
    "            s = str(df[\"arrival_date_year\"][i]) + \"-06-\" + day\n",
    "        elif df[\"arrival_date_month\"][i] == \"July\":\n",
    "            s = str(df[\"arrival_date_year\"][i]) + \"-07-\" + day\n",
    "        elif df[\"arrival_date_month\"][i] == \"August\":\n",
    "            s = str(df[\"arrival_date_year\"][i]) + \"-08-\" + day\n",
    "        elif df[\"arrival_date_month\"][i] == \"September\":\n",
    "            s = str(df[\"arrival_date_year\"][i]) + \"-09-\" + day\n",
    "        elif df[\"arrival_date_month\"][i] == \"October\":\n",
    "            s = str(df[\"arrival_date_year\"][i]) + \"-10-\" + day\n",
    "        elif df[\"arrival_date_month\"][i] == \"November\":\n",
    "            s = str(df[\"arrival_date_year\"][i]) + \"-11-\" + day\n",
    "        elif df[\"arrival_date_month\"][i] == \"December\":\n",
    "            s = str(df[\"arrival_date_year\"][i]) + \"-12-\" + day\n",
    "        date.append(s)\n",
    "        \n",
    "    return date"
   ]
  },
  {
   "cell_type": "code",
   "execution_count": 12,
   "metadata": {},
   "outputs": [],
   "source": [
    "arr_date = change_date(train)"
   ]
  },
  {
   "cell_type": "code",
   "execution_count": 13,
   "metadata": {},
   "outputs": [],
   "source": [
    "all_dum = pd.get_dummies(df2)"
   ]
  },
  {
   "cell_type": "code",
   "execution_count": 14,
   "metadata": {},
   "outputs": [],
   "source": [
    "#split train and test\n",
    "train_dum = all_dum[:len(train)]\n",
    "test_dum = all_dum[len(train):]"
   ]
  },
  {
   "cell_type": "markdown",
   "metadata": {},
   "source": [
    "### Predict is_canceled"
   ]
  },
  {
   "cell_type": "code",
   "execution_count": 26,
   "metadata": {},
   "outputs": [],
   "source": [
    "l_r = [0.075, 0.1, 0.15]\n",
    "n_est = [200, 500, 800, 1000]\n",
    "max_d=[7, 10, 15]\n",
    "sub_s = [0.85, 0.95, 1]"
   ]
  },
  {
   "cell_type": "code",
   "execution_count": 23,
   "metadata": {},
   "outputs": [],
   "source": [
    "can_df = train_dum.copy()\n",
    "y_can = train[\"is_canceled\"]\n",
    "x_can = can_df"
   ]
  },
  {
   "cell_type": "code",
   "execution_count": 25,
   "metadata": {},
   "outputs": [],
   "source": [
    "xcan_sub, xcan_val, ycan_sub, ycan_val = train_test_split(x_can, y_can, test_size=0.1, random_state=1024)"
   ]
  },
  {
   "cell_type": "code",
   "execution_count": 30,
   "metadata": {},
   "outputs": [
    {
     "name": "stdout",
     "output_type": "stream",
     "text": [
      "! update best !\n",
      "s: 0.850000, d: 7, acc: 0.883439, \n",
      "\n",
      "s: 0.950000, d: 7, acc: 0.882019, \n",
      "\n",
      "s: 1.000000, d: 7, acc: 0.880052, \n",
      "\n",
      "! update best !\n",
      "s: 0.850000, d: 10, acc: 0.890103, \n",
      "\n",
      "s: 0.950000, d: 10, acc: 0.888246, \n",
      "\n",
      "s: 1.000000, d: 10, acc: 0.888792, \n",
      "\n",
      "! update best !\n",
      "s: 0.850000, d: 15, acc: 0.902993, \n",
      "\n",
      "s: 0.950000, d: 15, acc: 0.901573, \n",
      "\n",
      "s: 1.000000, d: 15, acc: 0.900262, \n",
      "\n",
      "best s: 0.850000, best d: 15, acc: 0.902993\n"
     ]
    }
   ],
   "source": [
    "best_s_can3 = 0\n",
    "best_d_can3 = 0\n",
    "max_score_can3 = 0\n",
    "\n",
    "for d in max_d:\n",
    "    for s in sub_s:\n",
    "        # --------------------------------------------------------- #\n",
    "        # train\n",
    "        xgbc = XGBClassifier(booster=\"gbtree\",\n",
    "                     max_depth = d,\n",
    "                     learning_rate=0.05,\n",
    "                     n_estimators=200,\n",
    "                     subsample = s, \n",
    "                     objective='binary:logistic', \n",
    "                    use_label_encoder =False,\n",
    "                     eval_metric = 'error')\n",
    "        xgbc.fit(xcan_sub, ycan_sub)\n",
    "\n",
    "        # valid\n",
    "        ypred = xgbc.predict(xcan_val)\n",
    "        acc = accuracy_score(ycan_val, ypred)\n",
    "        \n",
    "        if acc > max_score_can3:\n",
    "            print(\"! update best !\")\n",
    "            best_s_can3 = s\n",
    "            best_d_can3 = d\n",
    "            max_score_can3 = acc\n",
    "        # --------------------------------------------------------- #\n",
    "        print(\"s: %f, d: %d, acc: %f, \\n\"%(s,d,acc))\n",
    "print(\"best s: %f, best d: %d, acc: %f\"%(best_s_can3,best_d_can3,max_score_can3))"
   ]
  },
  {
   "cell_type": "code",
   "execution_count": 33,
   "metadata": {},
   "outputs": [
    {
     "name": "stdout",
     "output_type": "stream",
     "text": [
      "! update best !\n",
      "l: 0.075000, n: 200, score: 0.903867, \n",
      "\n",
      "! update best !\n",
      "l: 0.075000, n: 500, score: 0.906380, \n",
      "\n",
      "l: 0.075000, n: 800, score: 0.906380, \n",
      "\n",
      "! update best !\n",
      "l: 0.075000, n: 1000, score: 0.907254, \n",
      "\n",
      "l: 0.100000, n: 200, score: 0.904741, \n",
      "\n",
      "l: 0.100000, n: 500, score: 0.906598, \n",
      "\n",
      "! update best !\n",
      "l: 0.100000, n: 800, score: 0.908455, \n",
      "\n",
      "l: 0.100000, n: 1000, score: 0.907363, \n",
      "\n",
      "l: 0.150000, n: 200, score: 0.905397, \n",
      "\n",
      "l: 0.150000, n: 500, score: 0.905834, \n",
      "\n",
      "l: 0.150000, n: 800, score: 0.904960, \n",
      "\n",
      "l: 0.150000, n: 1000, score: 0.905178, \n",
      "\n",
      "best l: 0.100000, best n: 800, score: 0.908455\n"
     ]
    }
   ],
   "source": [
    "best_l_can3 = 0\n",
    "best_n_can3 = 0\n",
    "max_score_can4 = 0\n",
    "\n",
    "for l in l_r:\n",
    "    for n in n_est:\n",
    "        # --------------------------------------------------------- #\n",
    "        # train\n",
    "        xgbc = XGBClassifier(booster=\"gbtree\",\n",
    "                     max_depth = best_d_can3,\n",
    "                     learning_rate=l,\n",
    "                     n_estimators=n,\n",
    "                     subsample = best_s_can3, \n",
    "                     objective='binary:logistic', \n",
    "                     eval_metric = 'error', \n",
    "                     use_label_encoder=False)\n",
    "        xgbc.fit(xcan_sub, ycan_sub)\n",
    "\n",
    "        # valid\n",
    "        ypred = xgbc.predict(xcan_val)\n",
    "        acc = accuracy_score(ycan_val, ypred)\n",
    "        \n",
    "        if acc > max_score_can4:\n",
    "            print(\"! update best !\")\n",
    "            best_l_can3 = l\n",
    "            best_n_can3 = n\n",
    "            max_score_can4 = acc\n",
    "        # --------------------------------------------------------- #\n",
    "        print(\"l: %f, n: %d, score: %f, \\n\"%(l,n,acc))\n",
    "print(\"best l: %f, best n: %d, score: %f\"%(best_l_can3,best_n_can3,max_score_can4))"
   ]
  },
  {
   "cell_type": "markdown",
   "metadata": {},
   "source": [
    "### Predict adr"
   ]
  },
  {
   "cell_type": "code",
   "execution_count": 17,
   "metadata": {},
   "outputs": [],
   "source": [
    "l_r = [0.01, 0.05, 0.075]\n",
    "n_est = [500, 800, 1000]\n",
    "max_d=[10, 15, 20]\n",
    "sub_s = [0.85, 0.95, 1]"
   ]
  },
  {
   "cell_type": "code",
   "execution_count": 15,
   "metadata": {},
   "outputs": [],
   "source": [
    "adr_df = train_dum.copy()\n",
    "y_adr = train[\"adr\"]\n",
    "x_adr = adr_df"
   ]
  },
  {
   "cell_type": "code",
   "execution_count": 16,
   "metadata": {},
   "outputs": [],
   "source": [
    "xadr_sub, xadr_val, yadr_sub, yadr_val = train_test_split(x_adr, y_adr, test_size=0.1, random_state=1024)"
   ]
  },
  {
   "cell_type": "code",
   "execution_count": 18,
   "metadata": {},
   "outputs": [
    {
     "name": "stdout",
     "output_type": "stream",
     "text": [
      "! update best !\n",
      "s: 0.850000, d: 10, score: 0.838788, \n",
      "\n",
      "! update best !\n",
      "s: 0.950000, d: 10, score: 0.839978, \n",
      "\n",
      "s: 1.000000, d: 10, score: 0.838127, \n",
      "\n",
      "! update best !\n",
      "s: 0.850000, d: 15, score: 0.844518, \n",
      "\n",
      "s: 0.950000, d: 15, score: 0.842938, \n",
      "\n",
      "s: 1.000000, d: 15, score: 0.841184, \n",
      "\n",
      "s: 0.850000, d: 20, score: 0.840434, \n",
      "\n",
      "s: 0.950000, d: 20, score: 0.837881, \n",
      "\n",
      "s: 1.000000, d: 20, score: 0.831864, \n",
      "\n",
      "best s: 0.850000, best d: 15, score: 0.844518\n"
     ]
    }
   ],
   "source": [
    "best_s = 0\n",
    "best_d = 0\n",
    "max_score = 0\n",
    "\n",
    "for d in max_d:\n",
    "    for s in sub_s:\n",
    "        # --------------------------------------------------------- #\n",
    "        # train\n",
    "        xgbc = XGBRegressor(booster=\"gbtree\",\n",
    "                     max_depth = d,\n",
    "                     learning_rate=0.05,\n",
    "                     n_estimators=200,\n",
    "                     subsample = s)\n",
    "        xgbc.fit(xadr_sub, yadr_sub)\n",
    "\n",
    "        # valid\n",
    "        ypred = xgbc.predict(xadr_val)\n",
    "        score = xgbc.score(xadr_val, yadr_val)  \n",
    "        \n",
    "        if score > max_score:\n",
    "            print(\"! update best !\")\n",
    "            best_s = s\n",
    "            best_d = d\n",
    "            max_score = score\n",
    "        # --------------------------------------------------------- #\n",
    "        print(\"s: %f, d: %d, score: %f, \\n\"%(s,d,score))\n",
    "print(\"best s: %f, best d: %d, score: %f\"%(best_s,best_d,max_score))"
   ]
  },
  {
   "cell_type": "code",
   "execution_count": 19,
   "metadata": {},
   "outputs": [
    {
     "name": "stdout",
     "output_type": "stream",
     "text": [
      "! update best !\n",
      "l: 0.010000, n: 500, score: 0.842510, \n",
      "\n",
      "! update best !\n",
      "l: 0.010000, n: 800, score: 0.846258, \n",
      "\n",
      "! update best !\n",
      "l: 0.010000, n: 1000, score: 0.846906, \n",
      "\n",
      "l: 0.050000, n: 500, score: 0.845875, \n",
      "\n",
      "l: 0.050000, n: 800, score: 0.846184, \n",
      "\n",
      "l: 0.050000, n: 1000, score: 0.846302, \n",
      "\n",
      "l: 0.075000, n: 500, score: 0.843831, \n",
      "\n",
      "l: 0.075000, n: 800, score: 0.843830, \n",
      "\n",
      "l: 0.075000, n: 1000, score: 0.843770, \n",
      "\n",
      "best l: 0.010000, best n: 1000, score: 0.846906\n"
     ]
    }
   ],
   "source": [
    "best_l = 0\n",
    "best_n = 0\n",
    "max_score2 = 0\n",
    "\n",
    "for l in l_r:\n",
    "    for n in n_est:\n",
    "        # --------------------------------------------------------- #\n",
    "        # train\n",
    "        xgbc = XGBRegressor(booster=\"gbtree\",\n",
    "                     max_depth = best_d,\n",
    "                     learning_rate = l,\n",
    "                     n_estimators = n,\n",
    "                     subsample = best_s)\n",
    "        xgbc.fit(xadr_sub, yadr_sub)\n",
    "\n",
    "        # valid\n",
    "        ypred = xgbc.predict(xadr_val)\n",
    "        score = xgbc.score(xadr_val, yadr_val)  \n",
    "        \n",
    "        if score > max_score2:\n",
    "            print(\"! update best !\")\n",
    "            best_l = l\n",
    "            best_n = n\n",
    "            max_score2 = score\n",
    "        # --------------------------------------------------------- #\n",
    "        print(\"l: %f, n: %d, score: %f, \\n\"%(l,n,score))\n",
    "print(\"best l: %f, best n: %d, score: %f\"%(best_l,best_n,max_score2))"
   ]
  },
  {
   "cell_type": "markdown",
   "metadata": {},
   "source": [
    "### Test"
   ]
  },
  {
   "cell_type": "code",
   "execution_count": 20,
   "metadata": {},
   "outputs": [],
   "source": [
    "best_d_can3 = 15\n",
    "best_l_can3 = 0.1\n",
    "best_n_can3 = 800\n",
    "best_s_can3 = 0.85"
   ]
  },
  {
   "cell_type": "code",
   "execution_count": 21,
   "metadata": {},
   "outputs": [],
   "source": [
    "arr_date_test = change_date(test)"
   ]
  },
  {
   "cell_type": "code",
   "execution_count": 25,
   "metadata": {},
   "outputs": [
    {
     "data": {
      "text/plain": [
       "XGBClassifier(base_score=0.5, booster='gbtree', colsample_bylevel=1,\n",
       "              colsample_bynode=1, colsample_bytree=1, eval_metric='error',\n",
       "              gamma=0, gpu_id=-1, importance_type='gain',\n",
       "              interaction_constraints='', learning_rate=0.1, max_delta_step=0,\n",
       "              max_depth=15, min_child_weight=1, missing=nan,\n",
       "              monotone_constraints='()', n_estimators=800, n_jobs=8,\n",
       "              num_parallel_tree=1, random_state=0, reg_alpha=0, reg_lambda=1,\n",
       "              scale_pos_weight=1, subsample=0.85, tree_method='exact',\n",
       "              use_label_encoder=False, validate_parameters=1, verbosity=None)"
      ]
     },
     "execution_count": 25,
     "metadata": {},
     "output_type": "execute_result"
    }
   ],
   "source": [
    "xgbc = XGBClassifier(booster=\"gbtree\",\n",
    "                     max_depth = best_d_can3,\n",
    "                     learning_rate=best_l_can3,\n",
    "                     n_estimators=best_n_can3,\n",
    "                     subsample = best_s_can3, \n",
    "                     objective='binary:logistic', \n",
    "                     eval_metric = 'error',\n",
    "                     use_label_encoder=False)\n",
    "xgbc.fit(x_can, y_can)"
   ]
  },
  {
   "cell_type": "code",
   "execution_count": 43,
   "metadata": {},
   "outputs": [],
   "source": [
    "feature_name = []\n",
    "for col,score in zip(x_can.columns, xgbc.feature_importances_):\n",
    "    feature_name.append((col,score))\n",
    "sorted_coef = sorted(feature_name, key=lambda x: abs(x[1]), reverse = True)"
   ]
  },
  {
   "cell_type": "code",
   "execution_count": 44,
   "metadata": {},
   "outputs": [
    {
     "name": "stdout",
     "output_type": "stream",
     "text": [
      "[('deposit_type_Non Refund', 0.7385), ('required_car_parking_spaces', 0.055864763), ('previous_cancellations', 0.036617458), ('reserved_room_type_P', 0.007558049), ('market_segment_Online TA', 0.0074155414), ('country_PRT', 0.005071911), ('previous_bookings_not_canceled', 0.004255408), ('country_AGO', 0.0042289817), ('assigned_room_type_I', 0.004085085), ('customer_type_Transient', 0.00266635), ('country_ARE', 0.002239956), ('country_NGA', 0.002205459), ('country_MAC', 0.0020808452), ('market_segment_Groups', 0.0019851793), ('country_HKG', 0.0019776828), ('meal_Undefined', 0.0019171964), ('market_segment_Direct', 0.0018619441), ('country_GIB', 0.0016986111), ('country_DEU', 0.0016860868), ('country_PAN', 0.0016853147)]\n"
     ]
    }
   ],
   "source": [
    "print(sorted_coef[:20])"
   ]
  },
  {
   "cell_type": "code",
   "execution_count": 26,
   "metadata": {},
   "outputs": [],
   "source": [
    "ypred_can = xgbc.predict(test_dum)"
   ]
  },
  {
   "cell_type": "code",
   "execution_count": 27,
   "metadata": {},
   "outputs": [
    {
     "name": "stdout",
     "output_type": "stream",
     "text": [
      "8920\n"
     ]
    }
   ],
   "source": [
    "print(sum(ypred_can))"
   ]
  },
  {
   "cell_type": "code",
   "execution_count": 28,
   "metadata": {},
   "outputs": [
    {
     "data": {
      "text/plain": [
       "XGBRegressor(base_score=0.5, booster='gbtree', colsample_bylevel=1,\n",
       "             colsample_bynode=1, colsample_bytree=1, gamma=0, gpu_id=-1,\n",
       "             importance_type='gain', interaction_constraints='',\n",
       "             learning_rate=0.01, max_delta_step=0, max_depth=15,\n",
       "             min_child_weight=1, missing=nan, monotone_constraints='()',\n",
       "             n_estimators=1000, n_jobs=8, num_parallel_tree=1, random_state=0,\n",
       "             reg_alpha=0, reg_lambda=1, scale_pos_weight=1, subsample=0.85,\n",
       "             tree_method='exact', validate_parameters=1, verbosity=None)"
      ]
     },
     "execution_count": 28,
     "metadata": {},
     "output_type": "execute_result"
    }
   ],
   "source": [
    "xgbr = XGBRegressor(booster=\"gbtree\",\n",
    "                     max_depth = best_d,\n",
    "                     learning_rate = best_l,\n",
    "                     n_estimators = best_n,\n",
    "                     subsample = best_s)\n",
    "xgbr.fit(x_adr, y_adr)"
   ]
  },
  {
   "cell_type": "code",
   "execution_count": 45,
   "metadata": {},
   "outputs": [],
   "source": [
    "feature_name = []\n",
    "for col,score in zip(x_adr.columns, xgbr.feature_importances_):\n",
    "    feature_name.append((col,score))\n",
    "sorted_coef = sorted(feature_name, key=lambda x: abs(x[1]), reverse = True)"
   ]
  },
  {
   "cell_type": "code",
   "execution_count": 46,
   "metadata": {},
   "outputs": [
    {
     "name": "stdout",
     "output_type": "stream",
     "text": [
      "[('deposit_type_No Deposit', 0.12405396), ('hotel_City Hotel', 0.10969548), ('market_segment_Online TA', 0.102983356), ('arrival_date_month_August', 0.07405902), ('arrival_date_month_July', 0.051747773), ('market_segment_Direct', 0.039138056), ('reserved_room_type_A', 0.03576105), ('reserved_room_type_F', 0.031035226), ('market_segment_Complementary', 0.030199105), ('deposit_type_Non Refund', 0.02477271), ('arrival_date_month_September', 0.017992685), ('children', 0.017635792), ('meal_HB', 0.013165229), ('reserved_room_type_B', 0.01242564), ('assigned_room_type_G', 0.012389966), ('assigned_room_type_L', 0.011109045), ('reserved_room_type_G', 0.010584361), ('arrival_date_month_June', 0.010349853), ('arrival_date_month_March', 0.009913133), ('market_segment_Groups', 0.008647074)]\n"
     ]
    }
   ],
   "source": [
    "print(sorted_coef[:20])"
   ]
  },
  {
   "cell_type": "code",
   "execution_count": 29,
   "metadata": {},
   "outputs": [],
   "source": [
    "ypred_adr = xgbr.predict(test_dum)"
   ]
  },
  {
   "cell_type": "code",
   "execution_count": 30,
   "metadata": {},
   "outputs": [
    {
     "name": "stdout",
     "output_type": "stream",
     "text": [
      "          arrDate          rev\n",
      "0      2017-04-01   724.908447\n",
      "1      2017-04-01     0.000000\n",
      "2      2017-04-01   414.098316\n",
      "3      2017-04-01   890.358215\n",
      "4      2017-04-01     0.000000\n",
      "...           ...          ...\n",
      "27854  2017-08-31  1183.146866\n",
      "27855  2017-08-31  1720.433609\n",
      "27856  2017-08-31   734.033661\n",
      "27857  2017-08-31   650.269142\n",
      "27858  2017-08-31    73.686676\n",
      "\n",
      "[27859 rows x 2 columns]\n"
     ]
    }
   ],
   "source": [
    "op_test = [1]*test.shape[0]\n",
    "s_test = ypred_adr*(op_test - ypred_can)*(test[\"stays_in_weekend_nights\"] + test[\"stays_in_week_nights\"])\n",
    "arr_df_test = pd.DataFrame(arr_date_test)\n",
    "cat_test = pd.concat([arr_df_test, s_test], axis = 1)\n",
    "cat_test.columns = [\"arrDate\", \"rev\"]\n",
    "print(cat_test)"
   ]
  },
  {
   "cell_type": "code",
   "execution_count": 31,
   "metadata": {},
   "outputs": [],
   "source": [
    "test_nl = pd.read_csv(\"test_nolabel.csv\")"
   ]
  },
  {
   "cell_type": "code",
   "execution_count": 32,
   "metadata": {},
   "outputs": [],
   "source": [
    "def unique(list1): \n",
    "    unique_list = [] \n",
    "    for x in list1: \n",
    "        # check if exists in unique_list or not \n",
    "        if x not in unique_list: \n",
    "            unique_list.append(x) \n",
    "    return unique_list"
   ]
  },
  {
   "cell_type": "code",
   "execution_count": 33,
   "metadata": {},
   "outputs": [
    {
     "name": "stdout",
     "output_type": "stream",
     "text": [
      "153\n",
      "153\n"
     ]
    }
   ],
   "source": [
    "uni_date_test = unique(arr_date_test)\n",
    "print(len(uni_date_test))\n",
    "print(len(test_nl))"
   ]
  },
  {
   "cell_type": "code",
   "execution_count": 34,
   "metadata": {},
   "outputs": [],
   "source": [
    "blank_test = [0]*len(uni_date_test)\n",
    "#sum up\n",
    "for i in range(cat_test.shape[0]):\n",
    "    for j in range(len(uni_date_test)):\n",
    "        if cat_test[\"arrDate\"][i] == uni_date_test[j]:\n",
    "            blank_test[j] += cat_test[\"rev\"][i]\n",
    "            break"
   ]
  },
  {
   "cell_type": "code",
   "execution_count": 35,
   "metadata": {},
   "outputs": [],
   "source": [
    "import math"
   ]
  },
  {
   "cell_type": "code",
   "execution_count": 36,
   "metadata": {},
   "outputs": [],
   "source": [
    "pre_class = blank_test.copy()\n",
    "for i in range(len(uni_date_test)):\n",
    "    pre_class[i] = math.floor(pre_class[i] / 10000)"
   ]
  },
  {
   "cell_type": "code",
   "execution_count": 37,
   "metadata": {},
   "outputs": [
    {
     "name": "stdout",
     "output_type": "stream",
     "text": [
      "[3, 2, 4, 1, 3, 2, 2, 4, 4, 3, 3, 2, 4, 3, 3, 4, 3, 1, 3, 2, 3, 3, 3, 3, 1, 1, 2, 5, 4, 2, 4, 3, 2, 3, 4, 4, 3, 4, 3, 2, 4, 2, 3, 4, 3, 2, 2, 3, 3, 3, 4, 3, 2, 3, 4, 3, 2, 4, 3, 2, 2, 4, 5, 4, 4, 5, 2, 2, 4, 3, 4, 6, 4, 2, 2, 4, 3, 4, 4, 4, 3, 3, 3, 3, 3, 3, 4, 3, 2, 3, 3, 6, 4, 6, 5, 3, 4, 4, 5, 6, 6, 5, 3, 4, 5, 8, 6, 7, 4, 3, 4, 4, 6, 7, 7, 4, 4, 4, 4, 7, 5, 6, 5, 4, 6, 5, 6, 6, 8, 4, 4, 4, 4, 7, 6, 6, 4, 5, 7, 6, 6, 6, 6, 3, 4, 4, 4, 6, 5, 7, 3, 3, 4]\n"
     ]
    }
   ],
   "source": [
    "print(pre_class)"
   ]
  },
  {
   "cell_type": "code",
   "execution_count": 38,
   "metadata": {},
   "outputs": [
    {
     "data": {
      "text/html": [
       "<div>\n",
       "<style scoped>\n",
       "    .dataframe tbody tr th:only-of-type {\n",
       "        vertical-align: middle;\n",
       "    }\n",
       "\n",
       "    .dataframe tbody tr th {\n",
       "        vertical-align: top;\n",
       "    }\n",
       "\n",
       "    .dataframe thead th {\n",
       "        text-align: right;\n",
       "    }\n",
       "</style>\n",
       "<table border=\"1\" class=\"dataframe\">\n",
       "  <thead>\n",
       "    <tr style=\"text-align: right;\">\n",
       "      <th></th>\n",
       "      <th>arrival_date</th>\n",
       "      <th>label</th>\n",
       "    </tr>\n",
       "  </thead>\n",
       "  <tbody>\n",
       "    <tr>\n",
       "      <th>0</th>\n",
       "      <td>2017-04-01</td>\n",
       "      <td>3</td>\n",
       "    </tr>\n",
       "    <tr>\n",
       "      <th>1</th>\n",
       "      <td>2017-04-02</td>\n",
       "      <td>2</td>\n",
       "    </tr>\n",
       "    <tr>\n",
       "      <th>2</th>\n",
       "      <td>2017-04-03</td>\n",
       "      <td>4</td>\n",
       "    </tr>\n",
       "    <tr>\n",
       "      <th>3</th>\n",
       "      <td>2017-04-04</td>\n",
       "      <td>1</td>\n",
       "    </tr>\n",
       "    <tr>\n",
       "      <th>4</th>\n",
       "      <td>2017-04-05</td>\n",
       "      <td>3</td>\n",
       "    </tr>\n",
       "    <tr>\n",
       "      <th>...</th>\n",
       "      <td>...</td>\n",
       "      <td>...</td>\n",
       "    </tr>\n",
       "    <tr>\n",
       "      <th>148</th>\n",
       "      <td>2017-08-27</td>\n",
       "      <td>5</td>\n",
       "    </tr>\n",
       "    <tr>\n",
       "      <th>149</th>\n",
       "      <td>2017-08-28</td>\n",
       "      <td>7</td>\n",
       "    </tr>\n",
       "    <tr>\n",
       "      <th>150</th>\n",
       "      <td>2017-08-29</td>\n",
       "      <td>3</td>\n",
       "    </tr>\n",
       "    <tr>\n",
       "      <th>151</th>\n",
       "      <td>2017-08-30</td>\n",
       "      <td>3</td>\n",
       "    </tr>\n",
       "    <tr>\n",
       "      <th>152</th>\n",
       "      <td>2017-08-31</td>\n",
       "      <td>4</td>\n",
       "    </tr>\n",
       "  </tbody>\n",
       "</table>\n",
       "<p>153 rows × 2 columns</p>\n",
       "</div>"
      ],
      "text/plain": [
       "    arrival_date  label\n",
       "0     2017-04-01      3\n",
       "1     2017-04-02      2\n",
       "2     2017-04-03      4\n",
       "3     2017-04-04      1\n",
       "4     2017-04-05      3\n",
       "..           ...    ...\n",
       "148   2017-08-27      5\n",
       "149   2017-08-28      7\n",
       "150   2017-08-29      3\n",
       "151   2017-08-30      3\n",
       "152   2017-08-31      4\n",
       "\n",
       "[153 rows x 2 columns]"
      ]
     },
     "metadata": {},
     "output_type": "display_data"
    }
   ],
   "source": [
    "ypred_df = pd.DataFrame(pre_class)\n",
    "date_df = pd.DataFrame(uni_date_test)\n",
    "final = pd.concat([date_df, ypred_df], axis = 1)\n",
    "final.columns = [\"arrival_date\", \"label\"]\n",
    "display(final)"
   ]
  },
  {
   "cell_type": "code",
   "execution_count": 39,
   "metadata": {},
   "outputs": [],
   "source": [
    "final.to_csv(\"test_label.csv\", index = False, header = True)"
   ]
  },
  {
   "cell_type": "code",
   "execution_count": null,
   "metadata": {},
   "outputs": [],
   "source": []
  }
 ],
 "metadata": {
  "kernelspec": {
   "display_name": "Python 3",
   "language": "python",
   "name": "python3"
  },
  "language_info": {
   "codemirror_mode": {
    "name": "ipython",
    "version": 3
   },
   "file_extension": ".py",
   "mimetype": "text/x-python",
   "name": "python",
   "nbconvert_exporter": "python",
   "pygments_lexer": "ipython3",
   "version": "3.7.6"
  }
 },
 "nbformat": 4,
 "nbformat_minor": 4
}
